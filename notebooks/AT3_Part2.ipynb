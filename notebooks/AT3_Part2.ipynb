{
 "cells": [
  {
   "cell_type": "markdown",
   "id": "009bcf46",
   "metadata": {},
   "source": [
    "UTS, MDSI, Autumn 2021 , Big Data Engineering(94693)\n",
    "\n",
    "Assignment 3 - Streaming with Kafka and Spark Streaming, 13 June 2021\n",
    "\n",
    "Group Project by\n",
    "* Irfan\n",
    "* Ming \n",
    "* Jedo\n",
    "* Hnin Pwint Tin / 13738339  \n",
    "\n",
    "AT3_Part2.ipynb\n",
    "\n",
    "The SQL script in this file are to run in KSQL DB editor.\n",
    "Each block of cell is to create Stream, Table to answer the business queries.\n",
    "\n",
    "Prior to running this script, AT3_Producer.py has to be run."
   ]
  },
  {
   "cell_type": "markdown",
   "id": "5fad04d5",
   "metadata": {},
   "source": [
    "## KSQL - Part 2\n",
    "\n",
    "#### Create Table from the Kafka Topic - \"nsw_car_park_facility\""
   ]
  },
  {
   "cell_type": "code",
   "execution_count": null,
   "id": "84635f87",
   "metadata": {},
   "outputs": [],
   "source": [
    "### Create TABLE - Car Park Facility\n",
    "CREATE TABLE car_park_facility_table\n",
    "(facility_id VARCHAR PRIMARY KEY, \n",
    " facility_name VARCHAR,\n",
    " park_id VARCHAR,\n",
    " time VARCHAR,\n",
    " spots int,\n",
    " message_date VARCHAR,\n",
    " tfnsw_facility_id VARCHAR,\n",
    " facility_occupancy_total int, \n",
    ")\n",
    "WITH (KAFKA_TOPIC='nsw_car_park_facility', VALUE_FORMAT='JSON');"
   ]
  },
  {
   "cell_type": "markdown",
   "id": "a8168560",
   "metadata": {},
   "source": [
    "#### Create Stream from the Kafka Topic - \"nsw_car_park_zone\""
   ]
  },
  {
   "cell_type": "code",
   "execution_count": null,
   "id": "b6f1ccc7",
   "metadata": {},
   "outputs": [],
   "source": [
    "### Create STREAM - Car Park Facility -- Working\n",
    "CREATE STREAM car_park_zone_stream\n",
    "(zone_id VARCHAR,\n",
    "facility_id VARCHAR,\n",
    "zone_name VARCHAR,\n",
    "spots int,\n",
    "parent_zone_id VARCHAR,\n",
    "message_date VARCHAR,\n",
    "zone_occupancy_total int)\n",
    "WITH (KAFKA_TOPIC='nsw_car_park_zone', VALUE_FORMAT='JSON');"
   ]
  },
  {
   "cell_type": "markdown",
   "id": "98094e94",
   "metadata": {},
   "source": [
    "## Business Queries"
   ]
  },
  {
   "cell_type": "markdown",
   "id": "d5ff5e3f",
   "metadata": {},
   "source": [
    "#### Car Park Facility Occupancy Percentage"
   ]
  },
  {
   "cell_type": "code",
   "execution_count": null,
   "id": "710f8200",
   "metadata": {},
   "outputs": [],
   "source": [
    "CREATE TABLE SEVEN_HILLS_OCCUPANCY_RATE AS\n",
    "SELECT\n",
    "  F.FACILITY_ID FACILITY_ID,\n",
    "  F.FACILITY_NAME FACILITY_NAME,\n",
    "  F.message_date MESSAGE_DATE,\n",
    "  ((F.FACILITY_OCCUPANCY_TOTAL * 100) / F.SPOTS) OCCUPANCY_PERCENT\n",
    "FROM CAR_PARK_FACILITY_TABLE F\n",
    "WHERE F.FACILITY_NAME = 'Seven hills'\n",
    "EMIT CHANGES;"
   ]
  },
  {
   "cell_type": "code",
   "execution_count": null,
   "id": "ac4f51d6",
   "metadata": {},
   "outputs": [],
   "source": [
    "CREATE STREAM SEVEN_HILLS_ZONE_OCCUPANCY_RATE AS   \n",
    "\tSELECT\n",
    "\t\tz.zone_id as zone_id ,\n",
    "\t\tz.zone_name as zone_name,\n",
    "        z.facility_id as facility_id,\n",
    "\t\tfa.facility_name as facility_name,\n",
    "        z.zone_occupancy_total as zone_occupancy_total,\n",
    "        z.spots as spots,\n",
    "        ((Cast(z.zone_occupancy_total as Double) / Cast(z.spots as Double))* 100)  as occupancy_rate,\n",
    "        z.message_date as time\n",
    "\tFROM CAR_PARK_ZONE_STREAM as z\n",
    "\tLEFT JOIN CAR_PARK_FACILITY_TABLE as fa ON z.facility_id = fa.facility_id\n",
    "\tWHERE fa.FACILITY_NAME = 'Seven hills'\n",
    "EMIT CHANGES;"
   ]
  },
  {
   "cell_type": "code",
   "execution_count": null,
   "id": "7f6943ba",
   "metadata": {},
   "outputs": [],
   "source": [
    "CREATE TABLE KELLYVILLE_OCCUPANCY_RATE AS\n",
    "SELECT\n",
    "  F.FACILITY_ID FACILITY_ID,\n",
    "  F.FACILITY_NAME FACILITY_NAME,\n",
    "  F.message_date MESSAGE_DATE,\n",
    "  ((F.FACILITY_OCCUPANCY_TOTAL * 100) / F.SPOTS) OCCUPANCY_PERCENT\n",
    "FROM CAR_PARK_FACILITY_TABLE F\n",
    "WHERE F.FACILITY_NAME = 'Kellyville Station Car Park'\n",
    "EMIT CHANGES;"
   ]
  },
  {
   "cell_type": "code",
   "execution_count": null,
   "id": "548851c1",
   "metadata": {},
   "outputs": [],
   "source": [
    "CREATE STREAM KELLYVILLE_ZONE_OCCUPANCY_RATE AS   \n",
    "\tSELECT\n",
    "\t\tz.zone_id as zone_id ,\n",
    "\t\tz.zone_name as zone_name,\n",
    "        z.facility_id as facility_id,\n",
    "\t\tfa.facility_name as facility_name,\n",
    "        z.zone_occupancy_total as zone_occupancy_total,\n",
    "        z.spots as spots,\n",
    "        ((Cast(z.zone_occupancy_total as Double) / Cast(z.spots as Double))* 100)  as occupancy_rate,\n",
    "        z.message_date as time\n",
    "\tFROM CAR_PARK_ZONE_STREAM as z\n",
    "\tLEFT JOIN CAR_PARK_FACILITY_TABLE as fa ON z.facility_id = fa.facility_id\n",
    "\tWHERE fa.FACILITY_NAME = 'Kellyville Station Car Park'\n",
    "EMIT CHANGES;"
   ]
  },
  {
   "cell_type": "markdown",
   "id": "a8161e1a",
   "metadata": {},
   "source": [
    "#### Car Park Facilities Occupied More Than 90 Percent"
   ]
  },
  {
   "cell_type": "code",
   "execution_count": null,
   "id": "8edf05dc",
   "metadata": {},
   "outputs": [],
   "source": [
    "## Working / Runnin with Success\n",
    "CREATE TABLE CAR_PARK_FACILITY_OCCUPANCY_RATE_GREATER_THAN_90 AS \n",
    "  SELECT\n",
    "    f.facility_id,\n",
    "    f.facility_name,\n",
    "    f.message_date,\n",
    "    f.facility_occupancy_total,\n",
    "    f.spots,\n",
    "\t((Cast(f.facility_occupancy_total as Double) / Cast(f.spots as Double))* 100) as occupancy_rate\n",
    "  FROM    as f\n",
    "  WHERE ((Cast(f.facility_occupancy_total as Double) / Cast(f.spots as Double))* 100) > 90\n",
    "EMIT CHANGES;"
   ]
  },
  {
   "cell_type": "markdown",
   "id": "145d8f07",
   "metadata": {},
   "source": [
    "#### Occupancy Rate of Car Park Zones"
   ]
  },
  {
   "cell_type": "code",
   "execution_count": null,
   "id": "99dddb41",
   "metadata": {},
   "outputs": [],
   "source": [
    "## Join Facility and Zone\n",
    "CREATE STREAM BELLA_FACILITY_ZONE_OCCUPANCY_RATE AS   \n",
    "\tSELECT\n",
    "\t\tz.zone_id as zone_id ,\n",
    "\t\tz.zone_name as zone_name,\n",
    "        z.facility_id as facility_id,\n",
    "\t\tfa.facility_name as facility_name,\n",
    "        z.zone_occupancy_total as zone_occupancy_total,\n",
    "        z.spots as spots,\n",
    "        ((Cast(z.zone_occupancy_total as Double) / Cast(z.spots as Double))* 100)  as occupancy_rate,\n",
    "        z.message_date as time\n",
    "\tFROM CAR_PARK_ZONE_STREAM as z\n",
    "\tLEFT JOIN CAR_PARK_FACILITY_TABLE as fa ON z.facility_id = fa.facility_id\n",
    "\tWHERE fa.FACILITY_NAME = 'Bella Vista Station Car Park'\n",
    "EMIT CHANGES;\n",
    "    "
   ]
  },
  {
   "cell_type": "markdown",
   "id": "338c792c",
   "metadata": {},
   "source": [
    "### Aggregated Availability by Facility with Five-Seconds of windows"
   ]
  },
  {
   "cell_type": "code",
   "execution_count": null,
   "id": "6afccb9c",
   "metadata": {},
   "outputs": [],
   "source": [
    "### working with success - Availability by Facility \n",
    "CREATE TABLE Availability_By_Facility AS\n",
    "  SELECT f.facility_id , f.facility_name,  f.spots, z.zone_occupancy_total, f.spots - sum(z.zone_occupancy_total) as avail\n",
    "    FROM  CAR_PARK_ZONE_STREAM  as z\n",
    "    LEFT JOIN CAR_PARK_FACILITY_TABLE as f\n",
    "    ON f.facility_id = z.facility_id\n",
    "    WINDOW TUMBLING (SIZE 5 SECONDS)\n",
    "    GROUP BY f.facility_id,  f.facility_name,  f.spots, z.zone_occupancy_total\n",
    "    HAVING SUM(z.zone_occupancy_total) > 1\n",
    "    EMIT CHANGES;"
   ]
  }
 ],
 "metadata": {
  "kernelspec": {
   "display_name": "Python 3",
   "language": "python",
   "name": "python3"
  },
  "language_info": {
   "codemirror_mode": {
    "name": "ipython",
    "version": 3
   },
   "file_extension": ".py",
   "mimetype": "text/x-python",
   "name": "python",
   "nbconvert_exporter": "python",
   "pygments_lexer": "ipython3",
   "version": "3.8.8"
  }
 },
 "nbformat": 4,
 "nbformat_minor": 5
}
