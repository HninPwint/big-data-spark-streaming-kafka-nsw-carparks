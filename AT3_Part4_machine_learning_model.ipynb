{
 "cells": [
  {
   "cell_type": "markdown",
   "id": "fa3367c7",
   "metadata": {},
   "source": [
    "UTS, MDSI, Autumn 2021 , Big Data Engineering(94693)\n",
    "\n",
    "Assignment 3 - Streaming with Kafka and Spark Streaming, 13 June 2021\n",
    "\n",
    "Group Project by\n",
    "* Irfan\n",
    "* Ming \n",
    "* Jedo\n",
    "* Hnin Pwint Tin / 13738339  \n",
    "\n",
    "AT3_Part4_Machine_Learning_Model.ipynb\n",
    "\n",
    "This script intends to \n",
    "* build Machine Learning- Linear Regression Model on Historical Car Park Occupancy Data \n",
    "* make prediction of future car park occupancy on Real-time Occupancy Stream Data\n",
    "* Stream the prediction result by Kafka Producer to Kafka Broker\n",
    "\n",
    "Prior to running this script, AT3_Producer.ipnyb has to be run."
   ]
  },
  {
   "cell_type": "code",
   "execution_count": 1,
   "id": "73911ca2",
   "metadata": {},
   "outputs": [],
   "source": [
    "from IPython.display import display, clear_output\n",
    "from datetime import datetime\n",
    "import time\n",
    "from pathlib import Path\n",
    "\n",
    "import pandas as pd\n",
    "from pyspark.sql import SparkSession\n",
    "from pyspark.sql import functions as F\n",
    "from pyspark.sql.types import StructType, StructField, IntegerType, StringType, DataType, FloatType,TimestampType\n",
    "import pyspark.sql.functions as sf\n",
    "from pyspark.sql.functions import lit, date_format, col, udf, struct\n",
    "\n",
    "from pyspark.sql.window import Window"
   ]
  },
  {
   "cell_type": "markdown",
   "id": "0e77b81a",
   "metadata": {},
   "source": [
    "## Create Spark Session"
   ]
  },
  {
   "cell_type": "code",
   "execution_count": 2,
   "id": "f850a573",
   "metadata": {},
   "outputs": [],
   "source": [
    "# Create SparkSession\n",
    "spark = SparkSession.builder \\\n",
    "        .appName('kafka') \\\n",
    "        .config(\"spark.driver.memory\", \"15g\") \\\n",
    "        .getOrCreate()"
   ]
  },
  {
   "cell_type": "markdown",
   "id": "f3e67647",
   "metadata": {},
   "source": [
    "## Subscribe the Zone Occupancy Live Stream"
   ]
  },
  {
   "cell_type": "code",
   "execution_count": 3,
   "id": "ab96bc18",
   "metadata": {},
   "outputs": [],
   "source": [
    "## Create the schema of the value field for Car Park Zone\n",
    "schema_car_park_zone_struct = StructType([\n",
    "    StructField(\"zone_id\", StringType(),  True),\n",
    "    StructField(\"facility_id\", StringType(),  True),\n",
    "    StructField(\"message_date\", StringType(),  True),\n",
    "    StructField(\"zone_name\", StringType(),  True),\n",
    "    StructField(\"spots\", StringType(),  True),\n",
    "    StructField(\"parent_zone_id\", StringType(),  True),\n",
    "    StructField(\"zone_occupancy_loop\", StringType(), True),\n",
    "    StructField(\"zone_occupancy_total\", StringType(), True),\n",
    "    StructField(\"zone_occupancy_monthlies\", StringType(), True),\n",
    "    StructField(\"zone_occupancy_open_gate\", StringType(),  True),\n",
    "    StructField(\"zone_occupancy_transients\", StringType(), True),\n",
    "])"
   ]
  },
  {
   "cell_type": "code",
   "execution_count": 4,
   "id": "d9bcada4",
   "metadata": {},
   "outputs": [
    {
     "name": "stdout",
     "output_type": "stream",
     "text": [
      "root\n",
      " |-- event_key: string (nullable = true)\n",
      " |-- event_topic: string (nullable = true)\n",
      " |-- event_timestamp: timestamp (nullable = true)\n",
      " |-- zone_id: string (nullable = true)\n",
      " |-- facility_id: string (nullable = true)\n",
      " |-- message_date: string (nullable = true)\n",
      " |-- zone_name: string (nullable = true)\n",
      " |-- spots: string (nullable = true)\n",
      " |-- parent_zone_id: string (nullable = true)\n",
      " |-- zone_occupancy_loop: string (nullable = true)\n",
      " |-- zone_occupancy_total: string (nullable = true)\n",
      " |-- zone_occupancy_monthlies: string (nullable = true)\n",
      " |-- zone_occupancy_open_gate: string (nullable = true)\n",
      " |-- zone_occupancy_transients: string (nullable = true)\n",
      "\n"
     ]
    }
   ],
   "source": [
    "#### Subscribe the topic \"nsw_car_park_zone\" from the Kafka broker and \n",
    "### Read the earlierst data into the Spark dataframe called car_park_zone_stream_df\n",
    "car_park_zone_stream_df = spark \\\n",
    "  .readStream \\\n",
    "  .format(\"kafka\") \\\n",
    "  .option(\"kafka.bootstrap.servers\", \"broker:29092\") \\\n",
    "  .option(\"startingOffsets\", \"earliest\") \\\n",
    "  .option(\"subscribe\", \"nsw_car_park_zone\") \\\n",
    "  .load()\n",
    "\n",
    "### Convert the columns key and value from car_park_zone_stream_df to string and \n",
    "### Save the results into the dataframe again\n",
    "car_park_zone_stream_df = car_park_zone_stream_df \\\n",
    "    .withColumn(\"key\", car_park_zone_stream_df[\"key\"].cast(StringType())) \\\n",
    "    .withColumn(\"value\", car_park_zone_stream_df[\"value\"].cast(StringType()))\n",
    "\n",
    "### Convert the column value of string_stream_df to JSON and\n",
    "### Save the results to the dataframe again \n",
    "car_park_zone_stream_df = car_park_zone_stream_df \\\n",
    "    .withColumn(\"value\", F.from_json(\"value\", schema_car_park_zone_struct))\n",
    "\n",
    "### Flatten the columns from value and rename the columns key,\n",
    "### topic, timestamp to respectively event_key, event_topic, event_timestamp\n",
    "car_park_zone_stream_df = car_park_zone_stream_df \\\n",
    "    .select( \\\n",
    "        F.col(\"key\").alias(\"event_key\"), \\\n",
    "        F.col(\"topic\").alias(\"event_topic\"), \\\n",
    "        F.col(\"timestamp\").alias(\"event_timestamp\"), \\\n",
    "        \"value.zone_id\", \\\n",
    "        \"value.facility_id\", \\\n",
    "        \"value.message_date\", \\\n",
    "        \"value.zone_name\", \\\n",
    "        \"value.spots\", \\\n",
    "        \"value.parent_zone_id\", \\\n",
    "        \"value.zone_occupancy_loop\", \\\n",
    "        \"value.zone_occupancy_total\", \\\n",
    "        \"value.zone_occupancy_monthlies\", \\\n",
    "        \"value.zone_occupancy_open_gate\", \\\n",
    "        \"value.zone_occupancy_transients\"\n",
    "    )\n",
    "\n",
    "### Print the schema of car_park_zone_stream_df\n",
    "car_park_zone_stream_df.printSchema()"
   ]
  },
  {
   "cell_type": "code",
   "execution_count": 5,
   "id": "14562111",
   "metadata": {},
   "outputs": [],
   "source": [
    "car_park_zone_stream = car_park_zone_stream_df \\\n",
    "    .writeStream \\\n",
    "    .format(\"memory\") \\\n",
    "    .queryName(\"nsw_car_park_zone_view\") \\\n",
    "    .start()"
   ]
  },
  {
   "cell_type": "code",
   "execution_count": 6,
   "id": "6bbde169",
   "metadata": {},
   "outputs": [],
   "source": [
    "nsw_car_park_zone_df = spark.sql('SELECT * FROM nsw_car_park_zone_view')"
   ]
  },
  {
   "cell_type": "code",
   "execution_count": 7,
   "id": "673bb141",
   "metadata": {},
   "outputs": [
    {
     "name": "stdout",
     "output_type": "stream",
     "text": [
      "root\n",
      " |-- event_key: string (nullable = true)\n",
      " |-- event_topic: string (nullable = true)\n",
      " |-- event_timestamp: timestamp (nullable = true)\n",
      " |-- zone_id: string (nullable = true)\n",
      " |-- facility_id: string (nullable = true)\n",
      " |-- message_date: string (nullable = true)\n",
      " |-- zone_name: string (nullable = true)\n",
      " |-- spots: string (nullable = true)\n",
      " |-- parent_zone_id: string (nullable = true)\n",
      " |-- zone_occupancy_loop: string (nullable = true)\n",
      " |-- zone_occupancy_total: string (nullable = true)\n",
      " |-- zone_occupancy_monthlies: string (nullable = true)\n",
      " |-- zone_occupancy_open_gate: string (nullable = true)\n",
      " |-- zone_occupancy_transients: string (nullable = true)\n",
      "\n"
     ]
    }
   ],
   "source": [
    "nsw_car_park_zone_df.printSchema()"
   ]
  },
  {
   "cell_type": "markdown",
   "id": "a1c529e3",
   "metadata": {},
   "source": [
    "### Initail Data Quality Check Performed on Stream Data"
   ]
  },
  {
   "cell_type": "code",
   "execution_count": 8,
   "id": "8973f3dd",
   "metadata": {},
   "outputs": [
    {
     "data": {
      "text/html": [
       "<div>\n",
       "<style scoped>\n",
       "    .dataframe tbody tr th:only-of-type {\n",
       "        vertical-align: middle;\n",
       "    }\n",
       "\n",
       "    .dataframe tbody tr th {\n",
       "        vertical-align: top;\n",
       "    }\n",
       "\n",
       "    .dataframe thead th {\n",
       "        text-align: right;\n",
       "    }\n",
       "</style>\n",
       "<table border=\"1\" class=\"dataframe\">\n",
       "  <thead>\n",
       "    <tr style=\"text-align: right;\">\n",
       "      <th></th>\n",
       "      <th>zone_name</th>\n",
       "      <th>zone_id</th>\n",
       "      <th>zone_occupancy_total</th>\n",
       "      <th>spots</th>\n",
       "    </tr>\n",
       "  </thead>\n",
       "  <tbody>\n",
       "    <tr>\n",
       "      <th>0</th>\n",
       "      <td>Kiama Car Park</td>\n",
       "      <td>1</td>\n",
       "      <td>-1</td>\n",
       "      <td>42</td>\n",
       "    </tr>\n",
       "    <tr>\n",
       "      <th>1</th>\n",
       "      <td>Kiama Car Park</td>\n",
       "      <td>1</td>\n",
       "      <td>-1</td>\n",
       "      <td>42</td>\n",
       "    </tr>\n",
       "    <tr>\n",
       "      <th>2</th>\n",
       "      <td>Kiama Car Park</td>\n",
       "      <td>1</td>\n",
       "      <td>-1</td>\n",
       "      <td>42</td>\n",
       "    </tr>\n",
       "    <tr>\n",
       "      <th>3</th>\n",
       "      <td>Kiama Car Park</td>\n",
       "      <td>1</td>\n",
       "      <td>-1</td>\n",
       "      <td>42</td>\n",
       "    </tr>\n",
       "    <tr>\n",
       "      <th>4</th>\n",
       "      <td>Kiama Car Park</td>\n",
       "      <td>1</td>\n",
       "      <td>-1</td>\n",
       "      <td>42</td>\n",
       "    </tr>\n",
       "  </tbody>\n",
       "</table>\n",
       "</div>"
      ],
      "text/plain": [
       "        zone_name zone_id zone_occupancy_total spots\n",
       "0  Kiama Car Park       1                   -1    42\n",
       "1  Kiama Car Park       1                   -1    42\n",
       "2  Kiama Car Park       1                   -1    42\n",
       "3  Kiama Car Park       1                   -1    42\n",
       "4  Kiama Car Park       1                   -1    42"
      ]
     },
     "execution_count": 8,
     "metadata": {},
     "output_type": "execute_result"
    }
   ],
   "source": [
    "### Identify negative value of zone occupancy\n",
    "nsw_car_park_zone_df.filter(F.col('zone_occupancy_total') < 0)\\\n",
    ".select('zone_name', 'zone_id', 'zone_occupancy_total', 'spots').limit(5).toPandas()"
   ]
  },
  {
   "cell_type": "code",
   "execution_count": 84,
   "id": "698aeea3",
   "metadata": {},
   "outputs": [
    {
     "data": {
      "text/html": [
       "<div>\n",
       "<style scoped>\n",
       "    .dataframe tbody tr th:only-of-type {\n",
       "        vertical-align: middle;\n",
       "    }\n",
       "\n",
       "    .dataframe tbody tr th {\n",
       "        vertical-align: top;\n",
       "    }\n",
       "\n",
       "    .dataframe thead th {\n",
       "        text-align: right;\n",
       "    }\n",
       "</style>\n",
       "<table border=\"1\" class=\"dataframe\">\n",
       "  <thead>\n",
       "    <tr style=\"text-align: right;\">\n",
       "      <th></th>\n",
       "      <th>zone_name</th>\n",
       "      <th>zone_id</th>\n",
       "      <th>zone_occupancy_total</th>\n",
       "      <th>spots</th>\n",
       "    </tr>\n",
       "  </thead>\n",
       "  <tbody>\n",
       "  </tbody>\n",
       "</table>\n",
       "</div>"
      ],
      "text/plain": [
       "Empty DataFrame\n",
       "Columns: [zone_name, zone_id, zone_occupancy_total, spots]\n",
       "Index: []"
      ]
     },
     "execution_count": 84,
     "metadata": {},
     "output_type": "execute_result"
    }
   ],
   "source": [
    "### Zone Occupancy Greater Than Capacity\n",
    "## The result may be incorrect - the values are String\n",
    "nsw_car_park_zone_df.filter(F.col('zone_occupancy_total') > (F.col('spots')) * 1.1)\\\n",
    ".select('zone_name', 'zone_id', 'zone_occupancy_total', 'spots').toPandas()"
   ]
  },
  {
   "cell_type": "code",
   "execution_count": 83,
   "id": "675b717e",
   "metadata": {},
   "outputs": [
    {
     "data": {
      "text/html": [
       "<div>\n",
       "<style scoped>\n",
       "    .dataframe tbody tr th:only-of-type {\n",
       "        vertical-align: middle;\n",
       "    }\n",
       "\n",
       "    .dataframe tbody tr th {\n",
       "        vertical-align: top;\n",
       "    }\n",
       "\n",
       "    .dataframe thead th {\n",
       "        text-align: right;\n",
       "    }\n",
       "</style>\n",
       "<table border=\"1\" class=\"dataframe\">\n",
       "  <thead>\n",
       "    <tr style=\"text-align: right;\">\n",
       "      <th></th>\n",
       "      <th>zone_name</th>\n",
       "      <th>zone_id</th>\n",
       "      <th>zone_occupancy_total</th>\n",
       "      <th>spots</th>\n",
       "    </tr>\n",
       "  </thead>\n",
       "  <tbody>\n",
       "    <tr>\n",
       "      <th>0</th>\n",
       "      <td>SYD318 Ashfield Park and Ride</td>\n",
       "      <td>1</td>\n",
       "      <td>None</td>\n",
       "      <td>180</td>\n",
       "    </tr>\n",
       "    <tr>\n",
       "      <th>1</th>\n",
       "      <td>SYD319 Kogarah Park and Ride</td>\n",
       "      <td>2</td>\n",
       "      <td>None</td>\n",
       "      <td>259</td>\n",
       "    </tr>\n",
       "    <tr>\n",
       "      <th>2</th>\n",
       "      <td>Multi Level</td>\n",
       "      <td>4</td>\n",
       "      <td>None</td>\n",
       "      <td>874</td>\n",
       "    </tr>\n",
       "    <tr>\n",
       "      <th>3</th>\n",
       "      <td>on grade</td>\n",
       "      <td>5</td>\n",
       "      <td>None</td>\n",
       "      <td>739</td>\n",
       "    </tr>\n",
       "    <tr>\n",
       "      <th>4</th>\n",
       "      <td>SYD326 Manly Vale Park and Ride</td>\n",
       "      <td>1</td>\n",
       "      <td>None</td>\n",
       "      <td>142</td>\n",
       "    </tr>\n",
       "  </tbody>\n",
       "</table>\n",
       "</div>"
      ],
      "text/plain": [
       "                         zone_name zone_id zone_occupancy_total spots\n",
       "0    SYD318 Ashfield Park and Ride       1                 None   180\n",
       "1     SYD319 Kogarah Park and Ride       2                 None   259\n",
       "2                      Multi Level       4                 None   874\n",
       "3                         on grade       5                 None   739\n",
       "4  SYD326 Manly Vale Park and Ride       1                 None   142"
      ]
     },
     "execution_count": 83,
     "metadata": {},
     "output_type": "execute_result"
    }
   ],
   "source": [
    "nsw_car_park_zone_df.filter(F.col('zone_occupancy_total').isNull())\\\n",
    ".select('zone_name', 'zone_id', 'zone_occupancy_total', 'spots').limit(5).toPandas()"
   ]
  },
  {
   "cell_type": "code",
   "execution_count": 12,
   "id": "58ec8566",
   "metadata": {},
   "outputs": [
    {
     "data": {
      "text/html": [
       "<div>\n",
       "<style scoped>\n",
       "    .dataframe tbody tr th:only-of-type {\n",
       "        vertical-align: middle;\n",
       "    }\n",
       "\n",
       "    .dataframe tbody tr th {\n",
       "        vertical-align: top;\n",
       "    }\n",
       "\n",
       "    .dataframe thead th {\n",
       "        text-align: right;\n",
       "    }\n",
       "</style>\n",
       "<table border=\"1\" class=\"dataframe\">\n",
       "  <thead>\n",
       "    <tr style=\"text-align: right;\">\n",
       "      <th></th>\n",
       "      <th>event_key</th>\n",
       "      <th>event_topic</th>\n",
       "      <th>event_timestamp</th>\n",
       "      <th>zone_id</th>\n",
       "      <th>facility_id</th>\n",
       "      <th>message_date</th>\n",
       "      <th>zone_name</th>\n",
       "      <th>spots</th>\n",
       "      <th>parent_zone_id</th>\n",
       "      <th>zone_occupancy_loop</th>\n",
       "      <th>zone_occupancy_total</th>\n",
       "      <th>zone_occupancy_monthlies</th>\n",
       "      <th>zone_occupancy_open_gate</th>\n",
       "      <th>zone_occupancy_transients</th>\n",
       "    </tr>\n",
       "  </thead>\n",
       "  <tbody>\n",
       "    <tr>\n",
       "      <th>0</th>\n",
       "      <td>CPS-CUD1</td>\n",
       "      <td>nsw_car_park_zone</td>\n",
       "      <td>2021-06-01 10:56:47.866</td>\n",
       "      <td>CPS-CUD1</td>\n",
       "      <td>1</td>\n",
       "      <td>2021-06-01T20:56:46</td>\n",
       "      <td>Tallawong Station At-Grade A Car Park</td>\n",
       "      <td>152</td>\n",
       "      <td>0</td>\n",
       "      <td>None</td>\n",
       "      <td>22</td>\n",
       "      <td>None</td>\n",
       "      <td>None</td>\n",
       "      <td>None</td>\n",
       "    </tr>\n",
       "    <tr>\n",
       "      <th>1</th>\n",
       "      <td>CPS-CUD2</td>\n",
       "      <td>nsw_car_park_zone</td>\n",
       "      <td>2021-06-01 10:56:47.867</td>\n",
       "      <td>CPS-CUD2</td>\n",
       "      <td>1</td>\n",
       "      <td>2021-06-01T20:56:46</td>\n",
       "      <td>Tallawong Station At-Grade B Car Park</td>\n",
       "      <td>455</td>\n",
       "      <td>0</td>\n",
       "      <td>None</td>\n",
       "      <td>9</td>\n",
       "      <td>None</td>\n",
       "      <td>None</td>\n",
       "      <td>None</td>\n",
       "    </tr>\n",
       "  </tbody>\n",
       "</table>\n",
       "</div>"
      ],
      "text/plain": [
       "  event_key        event_topic         event_timestamp   zone_id facility_id  \\\n",
       "0  CPS-CUD1  nsw_car_park_zone 2021-06-01 10:56:47.866  CPS-CUD1           1   \n",
       "1  CPS-CUD2  nsw_car_park_zone 2021-06-01 10:56:47.867  CPS-CUD2           1   \n",
       "\n",
       "          message_date                              zone_name spots  \\\n",
       "0  2021-06-01T20:56:46  Tallawong Station At-Grade A Car Park   152   \n",
       "1  2021-06-01T20:56:46  Tallawong Station At-Grade B Car Park   455   \n",
       "\n",
       "  parent_zone_id zone_occupancy_loop zone_occupancy_total  \\\n",
       "0              0                None                   22   \n",
       "1              0                None                    9   \n",
       "\n",
       "  zone_occupancy_monthlies zone_occupancy_open_gate zone_occupancy_transients  \n",
       "0                     None                     None                      None  \n",
       "1                     None                     None                      None  "
      ]
     },
     "execution_count": 12,
     "metadata": {},
     "output_type": "execute_result"
    }
   ],
   "source": [
    "nsw_car_park_zone_df.filter(F.col('zone_occupancy_total').isNotNull() & (F.col('zone_occupancy_total') >= 0) & \\\n",
    "(F.col('zone_occupancy_total') < (F.col('spots')) * 100) ).limit(2).toPandas()"
   ]
  },
  {
   "cell_type": "markdown",
   "id": "cf9b8738",
   "metadata": {},
   "source": [
    "## Load the Saved Historical Streamed Records in Parquet Format"
   ]
  },
  {
   "cell_type": "code",
   "execution_count": 7,
   "id": "92793cee",
   "metadata": {},
   "outputs": [],
   "source": [
    "# Constant Parquet File Path\n",
    "CAR_PARK_ZONE_FILEPATH = \"data/car_park_zone.parquet\""
   ]
  },
  {
   "cell_type": "code",
   "execution_count": 8,
   "id": "530b8729",
   "metadata": {},
   "outputs": [],
   "source": [
    "saved_car_park_zone_df = spark.read.parquet(CAR_PARK_ZONE_FILEPATH)"
   ]
  },
  {
   "cell_type": "code",
   "execution_count": null,
   "id": "f8069747",
   "metadata": {},
   "outputs": [],
   "source": [
    "saved_car_park_zone_df.show(2)"
   ]
  },
  {
   "cell_type": "markdown",
   "id": "a489325b",
   "metadata": {},
   "source": [
    "### Data Quality Investigation"
   ]
  },
  {
   "cell_type": "code",
   "execution_count": 10,
   "id": "14cbc082",
   "metadata": {},
   "outputs": [
    {
     "data": {
      "text/html": [
       "<div>\n",
       "<style scoped>\n",
       "    .dataframe tbody tr th:only-of-type {\n",
       "        vertical-align: middle;\n",
       "    }\n",
       "\n",
       "    .dataframe tbody tr th {\n",
       "        vertical-align: top;\n",
       "    }\n",
       "\n",
       "    .dataframe thead th {\n",
       "        text-align: right;\n",
       "    }\n",
       "</style>\n",
       "<table border=\"1\" class=\"dataframe\">\n",
       "  <thead>\n",
       "    <tr style=\"text-align: right;\">\n",
       "      <th></th>\n",
       "      <th>zone_name</th>\n",
       "    </tr>\n",
       "  </thead>\n",
       "  <tbody>\n",
       "    <tr>\n",
       "      <th>0</th>\n",
       "      <td>Kiama Car Park</td>\n",
       "    </tr>\n",
       "    <tr>\n",
       "      <th>1</th>\n",
       "      <td>Gordon Henry St North</td>\n",
       "    </tr>\n",
       "  </tbody>\n",
       "</table>\n",
       "</div>"
      ],
      "text/plain": [
       "               zone_name\n",
       "0         Kiama Car Park\n",
       "1  Gordon Henry St North"
      ]
     },
     "execution_count": 10,
     "metadata": {},
     "output_type": "execute_result"
    }
   ],
   "source": [
    "saved_car_park_zone_df.filter(F.col('zone_occupancy_total') < 0)\\\n",
    ".select('zone_name', 'zone_id', 'zone_occupancy_total', 'spots')\\\n",
    ".select('zone_name').distinct().toPandas()"
   ]
  },
  {
   "cell_type": "code",
   "execution_count": 19,
   "id": "a7ec5592",
   "metadata": {},
   "outputs": [
    {
     "data": {
      "text/html": [
       "<div>\n",
       "<style scoped>\n",
       "    .dataframe tbody tr th:only-of-type {\n",
       "        vertical-align: middle;\n",
       "    }\n",
       "\n",
       "    .dataframe tbody tr th {\n",
       "        vertical-align: top;\n",
       "    }\n",
       "\n",
       "    .dataframe thead th {\n",
       "        text-align: right;\n",
       "    }\n",
       "</style>\n",
       "<table border=\"1\" class=\"dataframe\">\n",
       "  <thead>\n",
       "    <tr style=\"text-align: right;\">\n",
       "      <th></th>\n",
       "      <th>zone_name</th>\n",
       "    </tr>\n",
       "  </thead>\n",
       "  <tbody>\n",
       "    <tr>\n",
       "      <th>0</th>\n",
       "      <td>SYD326 Manly Vale Park and Ride</td>\n",
       "    </tr>\n",
       "    <tr>\n",
       "      <th>1</th>\n",
       "      <td>Multi Level</td>\n",
       "    </tr>\n",
       "    <tr>\n",
       "      <th>2</th>\n",
       "      <td>SYD319 Kogarah Park and Ride</td>\n",
       "    </tr>\n",
       "    <tr>\n",
       "      <th>3</th>\n",
       "      <td>on grade</td>\n",
       "    </tr>\n",
       "    <tr>\n",
       "      <th>4</th>\n",
       "      <td>SYD318 Ashfield Park and Ride</td>\n",
       "    </tr>\n",
       "  </tbody>\n",
       "</table>\n",
       "</div>"
      ],
      "text/plain": [
       "                         zone_name\n",
       "0  SYD326 Manly Vale Park and Ride\n",
       "1                      Multi Level\n",
       "2     SYD319 Kogarah Park and Ride\n",
       "3                         on grade\n",
       "4    SYD318 Ashfield Park and Ride"
      ]
     },
     "execution_count": 19,
     "metadata": {},
     "output_type": "execute_result"
    }
   ],
   "source": [
    "saved_car_park_zone_df.filter(F.col('zone_occupancy_total').isNull())\\\n",
    ".select('zone_name', 'zone_id', 'zone_occupancy_total', 'spots')\\\n",
    ".select('zone_name').distinct().toPandas()"
   ]
  },
  {
   "cell_type": "code",
   "execution_count": 21,
   "id": "700fe147",
   "metadata": {},
   "outputs": [
    {
     "name": "stdout",
     "output_type": "stream",
     "text": [
      "root\n",
      " |-- event_key: string (nullable = true)\n",
      " |-- event_topic: string (nullable = true)\n",
      " |-- event_timestamp: timestamp (nullable = true)\n",
      " |-- zone_id: string (nullable = true)\n",
      " |-- facility_id: string (nullable = true)\n",
      " |-- message_date: string (nullable = true)\n",
      " |-- zone_name: string (nullable = true)\n",
      " |-- spots: string (nullable = true)\n",
      " |-- parent_zone_id: string (nullable = true)\n",
      " |-- zone_occupancy_loop: string (nullable = true)\n",
      " |-- zone_occupancy_total: string (nullable = true)\n",
      " |-- zone_occupancy_monthlies: string (nullable = true)\n",
      " |-- zone_occupancy_open_gate: string (nullable = true)\n",
      " |-- zone_occupancy_transients: string (nullable = true)\n",
      " |-- rn: integer (nullable = true)\n",
      " |-- message_datetime: timestamp (nullable = true)\n",
      " |-- year: integer (nullable = true)\n",
      " |-- quarter: integer (nullable = true)\n",
      " |-- month: integer (nullable = true)\n",
      " |-- dayofweek: integer (nullable = true)\n",
      " |-- day: integer (nullable = true)\n",
      " |-- hour: integer (nullable = true)\n",
      " |-- minute: integer (nullable = true)\n",
      "\n"
     ]
    }
   ],
   "source": [
    "saved_car_park_zone_df.printSchema()"
   ]
  },
  {
   "cell_type": "markdown",
   "id": "571b49de",
   "metadata": {},
   "source": [
    "### Transform Data Types"
   ]
  },
  {
   "cell_type": "code",
   "execution_count": 11,
   "id": "1c41de47",
   "metadata": {},
   "outputs": [],
   "source": [
    "## Change Categorical Features to String Type\n",
    "car_park_zone_df = saved_car_park_zone_df.withColumn('facility_id', F.col('facility_id').astype(StringType())).\\\n",
    "        withColumn('dayofweek', F.col('dayofweek').astype(StringType())).\\\n",
    "        withColumn('hour', F.col('hour').astype(StringType())).\\\n",
    "        withColumn('minute', F.col('minute').astype(StringType())).\\\n",
    "        withColumn('zone_occupancy_total', F.col('zone_occupancy_total').astype(IntegerType())).\\\n",
    "        withColumn('spots', F.col('spots').astype(IntegerType()))"
   ]
  },
  {
   "cell_type": "code",
   "execution_count": 12,
   "id": "0c7b4cb9",
   "metadata": {},
   "outputs": [],
   "source": [
    "## Subset Columns for interested features for modelling\n",
    "cols = ['zone_id', 'spots', 'zone_occupancy_total', 'dayofweek', 'hour', 'minute', 'facility_id', 'message_date']\n",
    "car_park_zone_df = car_park_zone_df.select(cols)"
   ]
  },
  {
   "cell_type": "code",
   "execution_count": 13,
   "id": "fda8ec37",
   "metadata": {},
   "outputs": [
    {
     "name": "stdout",
     "output_type": "stream",
     "text": [
      "+-------+-----+--------------------+---------+----+------+-----------+-------------------+\n",
      "|zone_id|spots|zone_occupancy_total|dayofweek|hour|minute|facility_id|       message_date|\n",
      "+-------+-----+--------------------+---------+----+------+-----------+-------------------+\n",
      "|      1|   42|                  -1|        7|   4|    33|          7|2021-06-05T04:33:28|\n",
      "|      1|  213|                   5|        7|   4|    33|          6|2021-06-05T04:33:36|\n",
      "+-------+-----+--------------------+---------+----+------+-----------+-------------------+\n",
      "only showing top 2 rows\n",
      "\n"
     ]
    }
   ],
   "source": [
    "# car_park_zone_df.printSchema()\n",
    "car_park_zone_df.show(2)"
   ]
  },
  {
   "cell_type": "markdown",
   "id": "d15a9c26",
   "metadata": {},
   "source": [
    "### Perform Data Cleansing - filtering out negative / NULL / occupancy > capacity"
   ]
  },
  {
   "cell_type": "code",
   "execution_count": 14,
   "id": "268aabc4",
   "metadata": {},
   "outputs": [],
   "source": [
    "### Perform mathematical conditional filtering after type change\n",
    "zone_new_stream_cleaned = car_park_zone_df.filter(F.col('zone_occupancy_total').isNotNull() & \\\n",
    "                                                         (F.col('zone_occupancy_total') >= 0) & \\\n",
    "                                                         (F.col('zone_occupancy_total') < (col('spots')) * 1.1) )"
   ]
  },
  {
   "cell_type": "code",
   "execution_count": 15,
   "id": "90a59c18",
   "metadata": {},
   "outputs": [
    {
     "data": {
      "text/html": [
       "<div>\n",
       "<style scoped>\n",
       "    .dataframe tbody tr th:only-of-type {\n",
       "        vertical-align: middle;\n",
       "    }\n",
       "\n",
       "    .dataframe tbody tr th {\n",
       "        vertical-align: top;\n",
       "    }\n",
       "\n",
       "    .dataframe thead th {\n",
       "        text-align: right;\n",
       "    }\n",
       "</style>\n",
       "<table border=\"1\" class=\"dataframe\">\n",
       "  <thead>\n",
       "    <tr style=\"text-align: right;\">\n",
       "      <th></th>\n",
       "      <th>zone_id</th>\n",
       "    </tr>\n",
       "  </thead>\n",
       "  <tbody>\n",
       "  </tbody>\n",
       "</table>\n",
       "</div>"
      ],
      "text/plain": [
       "Empty DataFrame\n",
       "Columns: [zone_id]\n",
       "Index: []"
      ]
     },
     "execution_count": 15,
     "metadata": {},
     "output_type": "execute_result"
    }
   ],
   "source": [
    "## Confirm the result of above cleansing task - condition 2\n",
    "zone_new_stream_cleaned.filter(F.col('zone_occupancy_total') < 0)\\\n",
    ".select('zone_id', 'zone_occupancy_total', 'spots')\\\n",
    ".select('zone_id').distinct().toPandas()"
   ]
  },
  {
   "cell_type": "code",
   "execution_count": 23,
   "id": "52354d16",
   "metadata": {},
   "outputs": [
    {
     "data": {
      "text/html": [
       "<div>\n",
       "<style scoped>\n",
       "    .dataframe tbody tr th:only-of-type {\n",
       "        vertical-align: middle;\n",
       "    }\n",
       "\n",
       "    .dataframe tbody tr th {\n",
       "        vertical-align: top;\n",
       "    }\n",
       "\n",
       "    .dataframe thead th {\n",
       "        text-align: right;\n",
       "    }\n",
       "</style>\n",
       "<table border=\"1\" class=\"dataframe\">\n",
       "  <thead>\n",
       "    <tr style=\"text-align: right;\">\n",
       "      <th></th>\n",
       "      <th>zone_id</th>\n",
       "    </tr>\n",
       "  </thead>\n",
       "  <tbody>\n",
       "  </tbody>\n",
       "</table>\n",
       "</div>"
      ],
      "text/plain": [
       "Empty DataFrame\n",
       "Columns: [zone_id]\n",
       "Index: []"
      ]
     },
     "execution_count": 23,
     "metadata": {},
     "output_type": "execute_result"
    }
   ],
   "source": [
    "## Confirm the result of above cleansing task - condition  1\n",
    "zone_new_stream_cleaned.filter(F.col('zone_occupancy_total').isNull())\\\n",
    ".select('zone_id', 'zone_occupancy_total', 'spots')\\\n",
    ".select('zone_id').distinct().toPandas()"
   ]
  },
  {
   "cell_type": "code",
   "execution_count": 24,
   "id": "d8aaa458",
   "metadata": {},
   "outputs": [
    {
     "data": {
      "text/html": [
       "<div>\n",
       "<style scoped>\n",
       "    .dataframe tbody tr th:only-of-type {\n",
       "        vertical-align: middle;\n",
       "    }\n",
       "\n",
       "    .dataframe tbody tr th {\n",
       "        vertical-align: top;\n",
       "    }\n",
       "\n",
       "    .dataframe thead th {\n",
       "        text-align: right;\n",
       "    }\n",
       "</style>\n",
       "<table border=\"1\" class=\"dataframe\">\n",
       "  <thead>\n",
       "    <tr style=\"text-align: right;\">\n",
       "      <th></th>\n",
       "      <th>zone_id</th>\n",
       "    </tr>\n",
       "  </thead>\n",
       "  <tbody>\n",
       "  </tbody>\n",
       "</table>\n",
       "</div>"
      ],
      "text/plain": [
       "Empty DataFrame\n",
       "Columns: [zone_id]\n",
       "Index: []"
      ]
     },
     "execution_count": 24,
     "metadata": {},
     "output_type": "execute_result"
    }
   ],
   "source": [
    "## Confirm the result of above cleansing task - condition 3\n",
    "zone_new_stream_cleaned.filter((F.col('zone_occupancy_total') > (col('spots')) * 1.1))\\\n",
    ".select('zone_id', 'zone_occupancy_total', 'spots')\\\n",
    ".select('zone_id').distinct().toPandas()"
   ]
  },
  {
   "cell_type": "code",
   "execution_count": 12,
   "id": "1c317d26",
   "metadata": {},
   "outputs": [
    {
     "name": "stdout",
     "output_type": "stream",
     "text": [
      "root\n",
      " |-- zone_id: string (nullable = true)\n",
      " |-- spots: integer (nullable = true)\n",
      " |-- zone_occupancy_total: integer (nullable = true)\n",
      " |-- dayofweek: string (nullable = true)\n",
      " |-- hour: string (nullable = true)\n",
      " |-- minute: string (nullable = true)\n",
      " |-- facility_id: string (nullable = true)\n",
      " |-- message_date: string (nullable = true)\n",
      "\n"
     ]
    }
   ],
   "source": [
    "zone_new_stream_cleaned.printSchema()"
   ]
  },
  {
   "cell_type": "markdown",
   "id": "dc0a9984",
   "metadata": {},
   "source": [
    "### Add Occupancy Rate Feature by calculating"
   ]
  },
  {
   "cell_type": "code",
   "execution_count": 16,
   "id": "dbf5576b",
   "metadata": {},
   "outputs": [],
   "source": [
    "car_park_zone_cleaned = zone_new_stream_cleaned.withColumn('zone_occupancy_rate', F.round(((F.col('zone_occupancy_total')/ F.col('spots')) * 100),2))"
   ]
  },
  {
   "cell_type": "code",
   "execution_count": 17,
   "id": "5b1b282e",
   "metadata": {},
   "outputs": [
    {
     "name": "stdout",
     "output_type": "stream",
     "text": [
      "+-------+-----+--------------------+---------+----+------+-----------+-------------------+-------------------+\n",
      "|zone_id|spots|zone_occupancy_total|dayofweek|hour|minute|facility_id|       message_date|zone_occupancy_rate|\n",
      "+-------+-----+--------------------+---------+----+------+-----------+-------------------+-------------------+\n",
      "|      1|  213|                   5|        7|   4|    33|          6|2021-06-05T04:33:36|               2.35|\n",
      "|      1|  213|                   5|        7|   4|    33|          6|2021-06-05T04:33:51|               2.35|\n",
      "+-------+-----+--------------------+---------+----+------+-----------+-------------------+-------------------+\n",
      "only showing top 2 rows\n",
      "\n"
     ]
    }
   ],
   "source": [
    "# car_park_zone_cleaned.printSchema()\n",
    "car_park_zone_cleaned.show(2)"
   ]
  },
  {
   "cell_type": "markdown",
   "id": "f0732803",
   "metadata": {},
   "source": [
    "### Add Feature of Future Occupancy Rate by  Window LEAD function"
   ]
  },
  {
   "cell_type": "code",
   "execution_count": 18,
   "id": "da540395",
   "metadata": {},
   "outputs": [],
   "source": [
    "# Define Window\n",
    "wlead = Window.partitionBy([car_park_zone_cleaned.zone_id, car_park_zone_cleaned.facility_id]).orderBy(car_park_zone_cleaned.message_date)"
   ]
  },
  {
   "cell_type": "code",
   "execution_count": 19,
   "id": "dc3d06bc",
   "metadata": {},
   "outputs": [
    {
     "name": "stdout",
     "output_type": "stream",
     "text": [
      "+--------+-----+--------------------+---------+----+------+-----------+-------------------+-------------------+--------------------------+\n",
      "| zone_id|spots|zone_occupancy_total|dayofweek|hour|minute|facility_id|       message_date|zone_occupancy_rate|future_zone_occupancy_rate|\n",
      "+--------+-----+--------------------+---------+----+------+-----------+-------------------+-------------------+--------------------------+\n",
      "|CPS-KVE2| 1006|                  18|        1|   0|     0|          2|2021-05-09T00:00:55|               1.79|                      1.79|\n",
      "|CPS-KVE2| 1006|                  18|        1|   0|     1|          2|2021-05-09T00:01:55|               1.79|                      1.79|\n",
      "|CPS-KVE2| 1006|                  18|        1|   0|     2|          2|2021-05-09T00:02:55|               1.79|                      1.59|\n",
      "|CPS-KVE2| 1006|                  16|        1|   0|     3|          2|2021-05-09T00:03:55|               1.59|                      1.29|\n",
      "|CPS-KVE2| 1006|                  13|        1|   0|     4|          2|2021-05-09T00:04:55|               1.29|                      1.19|\n",
      "+--------+-----+--------------------+---------+----+------+-----------+-------------------+-------------------+--------------------------+\n",
      "only showing top 5 rows\n",
      "\n"
     ]
    }
   ],
   "source": [
    "car_park_zone_cleaned = car_park_zone_cleaned.withColumn('future_zone_occupancy_rate',F.lead(F.col('zone_occupancy_rate'),1).over(wlead))\n",
    "car_park_zone_cleaned.show(5)"
   ]
  },
  {
   "cell_type": "code",
   "execution_count": 20,
   "id": "250696c4",
   "metadata": {},
   "outputs": [
    {
     "name": "stdout",
     "output_type": "stream",
     "text": [
      "root\n",
      " |-- zone_id: string (nullable = true)\n",
      " |-- dayofweek: string (nullable = true)\n",
      " |-- hour: string (nullable = true)\n",
      " |-- minute: string (nullable = true)\n",
      " |-- facility_id: string (nullable = true)\n",
      " |-- zone_occupancy_rate: float (nullable = true)\n",
      " |-- future_zone_occupancy_rate: float (nullable = true)\n",
      "\n",
      "+--------+---------+----+------+-----------+-------------------+--------------------------+\n",
      "| zone_id|dayofweek|hour|minute|facility_id|zone_occupancy_rate|future_zone_occupancy_rate|\n",
      "+--------+---------+----+------+-----------+-------------------+--------------------------+\n",
      "|CPS-KVE2|        1|   0|     0|          2|               1.79|                      1.79|\n",
      "|CPS-KVE2|        1|   0|     1|          2|               1.79|                      1.79|\n",
      "+--------+---------+----+------+-----------+-------------------+--------------------------+\n",
      "only showing top 2 rows\n",
      "\n"
     ]
    }
   ],
   "source": [
    "### Final Feature List for modelling , without \"message_date\"\n",
    "columns = ['zone_id', 'dayofweek', 'hour', 'minute', 'facility_id', 'zone_occupancy_rate', 'future_zone_occupancy_rate']\n",
    "car_park_zone_train_df = car_park_zone_cleaned.select(columns)\n",
    "\n",
    "car_park_zone_train_df.printSchema()\n",
    "car_park_zone_train_df.show(2)"
   ]
  },
  {
   "cell_type": "markdown",
   "id": "f0fae084",
   "metadata": {},
   "source": [
    "### Build Pipeline for Data Processing - Categorical Encoding"
   ]
  },
  {
   "cell_type": "code",
   "execution_count": 21,
   "id": "bb243d04",
   "metadata": {},
   "outputs": [],
   "source": [
    "from pyspark.ml import Pipeline\n",
    "from pyspark.ml.feature import StringIndexer, VectorAssembler, OneHotEncoder\n",
    "\n",
    "cat_cols = ['zone_id', 'dayofweek','hour', 'minute', 'facility_id']\n",
    "stages = []\n",
    "\n",
    "for cat_col in cat_cols:\n",
    "    col_indexer = StringIndexer(inputCol=cat_col, outputCol=f\"{cat_col}_ind\")\n",
    "    col_encoder = OneHotEncoder(inputCols=[f\"{cat_col}_ind\"], outputCols=[f\"{cat_col}_ohe\"])\n",
    "    stages += [col_indexer, col_encoder]\n",
    "cat_cols_ohe = [f\"{cat_col}_ohe\" for cat_col in cat_cols]"
   ]
  },
  {
   "cell_type": "code",
   "execution_count": 22,
   "id": "0fab96f4",
   "metadata": {},
   "outputs": [
    {
     "data": {
      "text/plain": [
       "VectorAssembler_7b5759e45f31"
      ]
     },
     "execution_count": 22,
     "metadata": {},
     "output_type": "execute_result"
    }
   ],
   "source": [
    "## Vectorize the Numerical Features \n",
    "\n",
    "num_cols = ['zone_occupancy_rate', 'future_zone_occupancy_rate']\n",
    "\n",
    "assembler = VectorAssembler(inputCols=cat_cols_ohe + num_cols, outputCol=\"features\")\n",
    "assembler.setHandleInvalid(\"keep\")"
   ]
  },
  {
   "cell_type": "code",
   "execution_count": 23,
   "id": "767d81ed",
   "metadata": {},
   "outputs": [],
   "source": [
    "stages += [assembler]\n",
    "\n",
    "pipeline = Pipeline(stages=stages)\n",
    "pipeline_model = pipeline.fit(car_park_zone_train_df)"
   ]
  },
  {
   "cell_type": "code",
   "execution_count": 24,
   "id": "ae343a87",
   "metadata": {},
   "outputs": [],
   "source": [
    "pipelined_train_df = pipeline_model.transform(car_park_zone_train_df)"
   ]
  },
  {
   "cell_type": "code",
   "execution_count": 25,
   "id": "71e32d8f",
   "metadata": {},
   "outputs": [
    {
     "name": "stdout",
     "output_type": "stream",
     "text": [
      "+--------+---------+----+------+-----------+-------------------+--------------------------+-----------+-------------+-------------+-------------+--------+---------------+----------+---------------+---------------+---------------+--------------------+\n",
      "| zone_id|dayofweek|hour|minute|facility_id|zone_occupancy_rate|future_zone_occupancy_rate|zone_id_ind|  zone_id_ohe|dayofweek_ind|dayofweek_ohe|hour_ind|       hour_ohe|minute_ind|     minute_ohe|facility_id_ind|facility_id_ohe|            features|\n",
      "+--------+---------+----+------+-----------+-------------------+--------------------------+-----------+-------------+-------------+-------------+--------+---------------+----------+---------------+---------------+---------------+--------------------+\n",
      "|CPS-KVE2|        1|   0|     0|          2|               1.79|                      1.79|        7.0|(8,[7],[1.0])|          4.0|(6,[4],[1.0])|    19.0|(23,[19],[1.0])|      59.0|     (59,[],[])|            3.0|  (6,[3],[1.0])|(104,[7,12,33,99,...|\n",
      "|CPS-KVE2|        1|   0|     1|          2|               1.79|                      1.79|        7.0|(8,[7],[1.0])|          4.0|(6,[4],[1.0])|    19.0|(23,[19],[1.0])|      20.0|(59,[20],[1.0])|            3.0|  (6,[3],[1.0])|(104,[7,12,33,57,...|\n",
      "+--------+---------+----+------+-----------+-------------------+--------------------------+-----------+-------------+-------------+-------------+--------+---------------+----------+---------------+---------------+---------------+--------------------+\n",
      "only showing top 2 rows\n",
      "\n"
     ]
    }
   ],
   "source": [
    "pipelined_train_df.show(2)"
   ]
  },
  {
   "cell_type": "code",
   "execution_count": 38,
   "id": "7f6adb30",
   "metadata": {},
   "outputs": [
    {
     "name": "stdout",
     "output_type": "stream",
     "text": [
      "root\n",
      " |-- zone_id: string (nullable = true)\n",
      " |-- dayofweek: string (nullable = true)\n",
      " |-- hour: string (nullable = true)\n",
      " |-- minute: string (nullable = true)\n",
      " |-- facility_id: string (nullable = true)\n",
      " |-- zone_occupancy_rate: float (nullable = true)\n",
      " |-- future_zone_occupancy_rate: float (nullable = true)\n",
      " |-- zone_id_ind: double (nullable = false)\n",
      " |-- zone_id_ohe: vector (nullable = true)\n",
      " |-- dayofweek_ind: double (nullable = false)\n",
      " |-- dayofweek_ohe: vector (nullable = true)\n",
      " |-- hour_ind: double (nullable = false)\n",
      " |-- hour_ohe: vector (nullable = true)\n",
      " |-- minute_ind: double (nullable = false)\n",
      " |-- minute_ohe: vector (nullable = true)\n",
      " |-- facility_id_ind: double (nullable = false)\n",
      " |-- facility_id_ohe: vector (nullable = true)\n",
      " |-- features: vector (nullable = true)\n",
      "\n"
     ]
    }
   ],
   "source": [
    "pipelined_train_df.printSchema()"
   ]
  },
  {
   "cell_type": "code",
   "execution_count": 26,
   "id": "5f452323",
   "metadata": {},
   "outputs": [],
   "source": [
    "pipelined_train_df = pipelined_train_df.select(['features'] + columns)"
   ]
  },
  {
   "cell_type": "code",
   "execution_count": 27,
   "id": "74c6f7aa",
   "metadata": {},
   "outputs": [
    {
     "name": "stdout",
     "output_type": "stream",
     "text": [
      "+--------------------+--------+---------+----+------+-----------+-------------------+--------------------------+\n",
      "|            features| zone_id|dayofweek|hour|minute|facility_id|zone_occupancy_rate|future_zone_occupancy_rate|\n",
      "+--------------------+--------+---------+----+------+-----------+-------------------+--------------------------+\n",
      "|(104,[7,12,33,99,...|CPS-KVE2|        1|   0|     0|          2|               1.79|                      1.79|\n",
      "|(104,[7,12,33,57,...|CPS-KVE2|        1|   0|     1|          2|               1.79|                      1.79|\n",
      "+--------------------+--------+---------+----+------+-----------+-------------------+--------------------------+\n",
      "only showing top 2 rows\n",
      "\n"
     ]
    }
   ],
   "source": [
    "pipelined_train_df.show(2)"
   ]
  },
  {
   "cell_type": "code",
   "execution_count": 41,
   "id": "de0c9100",
   "metadata": {},
   "outputs": [
    {
     "name": "stdout",
     "output_type": "stream",
     "text": [
      "root\n",
      " |-- features: vector (nullable = true)\n",
      " |-- zone_id: string (nullable = true)\n",
      " |-- dayofweek: string (nullable = true)\n",
      " |-- hour: string (nullable = true)\n",
      " |-- minute: string (nullable = true)\n",
      " |-- facility_id: string (nullable = true)\n",
      " |-- zone_occupancy_rate: float (nullable = true)\n",
      " |-- future_zone_occupancy_rate: float (nullable = true)\n",
      "\n"
     ]
    }
   ],
   "source": [
    "pipelined_train_df.printSchema()"
   ]
  },
  {
   "cell_type": "markdown",
   "id": "d2aad6ab",
   "metadata": {},
   "source": [
    "#### Check Again for NULL"
   ]
  },
  {
   "cell_type": "code",
   "execution_count": 50,
   "id": "2e4223dc",
   "metadata": {},
   "outputs": [
    {
     "name": "stdout",
     "output_type": "stream",
     "text": [
      "10\n",
      "0\n"
     ]
    }
   ],
   "source": [
    "#Exmine if any rows with NULL value\n",
    "print(pipelined_train_df.where(col(\"future_zone_occupancy_rate\").isNull()).count())\n",
    "print(pipelined_train_df.where(col(\"zone_occupancy_rate\").isNull()).count())"
   ]
  },
  {
   "cell_type": "code",
   "execution_count": 28,
   "id": "b3fcf76a",
   "metadata": {},
   "outputs": [],
   "source": [
    "## If no LEAD records are found, \"future_zone_occupancy_rate\" column will have NULL values\n",
    "## THose need to be dropped before proceeding into the model training\n",
    "\n",
    "pipelined_final_train_df = pipelined_train_df.na.drop(subset=[\"future_zone_occupancy_rate\"])"
   ]
  },
  {
   "cell_type": "code",
   "execution_count": 27,
   "id": "f285877b",
   "metadata": {},
   "outputs": [
    {
     "name": "stdout",
     "output_type": "stream",
     "text": [
      "0\n"
     ]
    }
   ],
   "source": [
    "## Ensure the final data without NULL \n",
    "\n",
    "print(pipelined_final_train_df.where(col(\"future_zone_occupancy_rate\").isNull()).count())"
   ]
  },
  {
   "cell_type": "markdown",
   "id": "8caa9219",
   "metadata": {},
   "source": [
    "### Model Training - Linear Regression"
   ]
  },
  {
   "cell_type": "code",
   "execution_count": 29,
   "id": "aaa0c72f",
   "metadata": {},
   "outputs": [],
   "source": [
    "from pyspark.ml.regression import LinearRegression\n",
    "\n",
    "lr = LinearRegression(featuresCol = 'features', labelCol='future_zone_occupancy_rate', maxIter=10, regParam=0.3, elasticNetParam=0.8)"
   ]
  },
  {
   "cell_type": "code",
   "execution_count": 30,
   "id": "13cde390",
   "metadata": {},
   "outputs": [],
   "source": [
    "lr_model = lr.fit(pipelined_final_train_df)"
   ]
  },
  {
   "cell_type": "code",
   "execution_count": 31,
   "id": "2418065b",
   "metadata": {},
   "outputs": [
    {
     "name": "stdout",
     "output_type": "stream",
     "text": [
      "+------------------+--------------------------+--------------------+\n",
      "|        prediction|future_zone_occupancy_rate|            features|\n",
      "+------------------+--------------------------+--------------------+\n",
      "|2.0139840006759093|                      1.79|(104,[7,12,33,99,...|\n",
      "|2.0139840006759093|                      1.79|(104,[7,12,33,57,...|\n",
      "|1.9143664067103072|                      1.59|(104,[7,12,33,76,...|\n",
      "|1.6660303633593734|                      1.29|(104,[7,12,33,95,...|\n",
      "|1.4678571626267234|                      1.19|(104,[7,12,33,58,...|\n",
      "|1.4184024104353663|                      1.19|(104,[7,12,33,52,...|\n",
      "|1.4184024104353663|                      1.19|(104,[7,12,33,86,...|\n",
      "| 1.368593583764198|                      1.09|(104,[7,12,33,47,...|\n",
      "| 1.319138772618126|                      1.09|(104,[7,12,33,87,...|\n",
      "| 1.319138772618126|                      1.09|(104,[7,12,33,64,...|\n",
      "| 1.319138772618126|                      1.09|(104,[7,12,33,45,...|\n",
      "| 1.319138772618126|                      1.09|(104,[7,12,33,88,...|\n",
      "|1.2693299459469578|                      0.99|(104,[7,12,33,85,...|\n",
      "|1.2198751348008858|                      0.99|(104,[7,12,33,91,...|\n",
      "|1.1252383878763597|                       0.8|(104,[7,12,33,46,...|\n",
      "| 1.031274270280709|                       0.8|(104,[7,12,33,75,...|\n",
      "| 1.031274270280709|                       0.8|(104,[7,12,33,92,...|\n",
      "| 1.031274270280709|                       0.8|(104,[7,12,33,53,...|\n",
      "| 1.031274270280709|                       0.8|(104,[7,12,33,60,...|\n",
      "| 1.031274270280709|                       0.8|(104,[7,12,33,89,...|\n",
      "+------------------+--------------------------+--------------------+\n",
      "only showing top 20 rows\n",
      "\n"
     ]
    }
   ],
   "source": [
    "lr_predictions = lr_model.transform(pipelined_final_train_df)\n",
    "lr_predictions.select(\"prediction\",\"future_zone_occupancy_rate\",\"features\").show(20)"
   ]
  },
  {
   "cell_type": "markdown",
   "id": "1d0bc06c",
   "metadata": {},
   "source": [
    "### Model Prediction Accurancy on Training Data"
   ]
  },
  {
   "cell_type": "code",
   "execution_count": 32,
   "id": "f2867fac",
   "metadata": {},
   "outputs": [
    {
     "name": "stdout",
     "output_type": "stream",
     "text": [
      "Root Mean Squared Error (RMSE)  = 0.470734\n"
     ]
    }
   ],
   "source": [
    "from pyspark.ml.evaluation import RegressionEvaluator\n",
    "\n",
    "lr_evaluator = RegressionEvaluator(predictionCol=\"prediction\", \\\n",
    "                 labelCol=\"future_zone_occupancy_rate\", metricName=\"rmse\")\n",
    "rmse = lr_evaluator.evaluate(lr_predictions)\n",
    "print(\"Root Mean Squared Error (RMSE)  = %g\" % rmse)"
   ]
  },
  {
   "cell_type": "markdown",
   "id": "4f15acc8",
   "metadata": {},
   "source": [
    "## Model Prediction of Occupancy Rate on Real-Time Stream Data\n",
    "## Stream the Prediction Results - Strategy I"
   ]
  },
  {
   "cell_type": "code",
   "execution_count": 34,
   "id": "321ae9e5",
   "metadata": {},
   "outputs": [],
   "source": [
    "import json\n",
    "from confluent_kafka import Producer\n",
    "\n",
    "p = Producer({'bootstrap.servers': 'broker:29092'})\n",
    "\n",
    "def convert_to_json(row):\n",
    "    return json.dumps(row).encode('utf-8')\n",
    "\n",
    "def callback(error, message):\n",
    "    if error:\n",
    "        print(f\"Error: {message.value()}: {error.str()}\")\n",
    "    else:\n",
    "        print(f\"Sucess: {message.value()}\")"
   ]
  },
  {
   "cell_type": "code",
   "execution_count": null,
   "id": "2c78c083",
   "metadata": {},
   "outputs": [
    {
     "name": "stdout",
     "output_type": "stream",
     "text": [
      "========Occupancy_Rate_Prediction=======\n",
      "b'{\"zone_id\": \"CPS-CUD1\", \"facility_id\": \"1\", \"hour\": \"9\", \"minute\": \"32\", \"prediction\": 13.955396517972801, \"prediction_time\": \"2021-06-13 08:31:16.72974\"}'\n",
      "Sucess: b'{\"zone_id\": \"CPS-CUD1\", \"facility_id\": \"1\", \"hour\": \"9\", \"minute\": \"31\", \"prediction\": 13.628994917690985, \"prediction_time\": \"2021-06-13 08:31:16.72974\"}'\n"
     ]
    }
   ],
   "source": [
    "topic = \"Occupancy_Rate_Prediction\"\n",
    "try:\n",
    "    clear_output(wait=True)\n",
    "    zone_new_stream_data = spark.sql(\"\"\"SELECT \n",
    "                        zone_id, facility_id,spots, zone_occupancy_total,\n",
    "                        dayofweek(message_date) as dayofweek,\n",
    "                        hour(message_date) as hour,\n",
    "                        minute(message_date) as minute, message_date\n",
    "                       FROM nsw_car_park_zone_view\"\"\")\n",
    "\n",
    "    ### Transform Data types\n",
    "    zone_new_stream_df = zone_new_stream_data.withColumn('facility_id', F.col('facility_id').astype(StringType())).\\\n",
    "    withColumn('dayofweek', F.col('dayofweek').astype(StringType())).\\\n",
    "    withColumn('hour', F.col('hour').astype(StringType())).\\\n",
    "    withColumn('minute', F.col('minute').astype(StringType())).\\\n",
    "    withColumn('zone_occupancy_total', F.col('zone_occupancy_total').astype(IntegerType())).\\\n",
    "    withColumn('spots', F.col('spots').astype(IntegerType()))\n",
    "\n",
    "    ## Omit invalid values - NULL, Negative\n",
    "    zone_new_stream_cleaned = zone_new_stream_df.filter(col('zone_occupancy_total').isNotNull() & \\\n",
    "                                                     (col('zone_occupancy_total') >= 0) & \\\n",
    "                                                     (col('zone_occupancy_total') < (col('spots')) * 1.1) )\n",
    "    ## Add feature -  Current Occupancy Rate\n",
    "    zone_new_stream_df = zone_new_stream_cleaned.withColumn('zone_occupancy_rate', F.round(((F.col('zone_occupancy_total')/ F.col('spots')) * 100),2))\n",
    "    ## Drop if any NULL\n",
    "    zone_new_stream_df_cleaned_again = zone_new_stream_df.na.drop(subset=[\"zone_occupancy_rate\"])\n",
    "\n",
    "    ### Define Window Lead function\n",
    "    wlead = Window.partitionBy([zone_new_stream_df_cleaned_again.zone_id, zone_new_stream_df_cleaned_again.facility_id]).orderBy(zone_new_stream_df_cleaned_again.message_date)\n",
    "    ## Shift the engineered featured \"zone_occupancy_rate\" value of next row to the current row \n",
    "    zone_new_stream_cleaned_final = zone_new_stream_df_cleaned_again.withColumn('future_zone_occupancy_rate',F.lead(F.col('zone_occupancy_rate'),1).over(wlead))\n",
    "\n",
    "    ### Subset for features which will be used in Modelling\n",
    "    zone_new_stream_cleaned_final = zone_new_stream_cleaned_final.select(columns)\n",
    "\n",
    "    ## Fit the cleaned new stream data into the previously built Pipeline during Model Training\n",
    "    pipeline_model_new_data = pipeline.fit(zone_new_stream_cleaned_final)\n",
    "\n",
    "    ## Trigger the data in the pipeline to active the transformation process\n",
    "    pipelined_cleaned_new_df = pipeline_model_new_data.transform(zone_new_stream_cleaned_final)\n",
    "\n",
    "    ### Drop the unkown lead occupancy means dropping rows with no Target values\n",
    "    pipelined_cleaned_final_df = pipelined_cleaned_new_df.na.drop(subset=[\"future_zone_occupancy_rate\"])\n",
    "\n",
    "    ## Feed into the pipeline\n",
    "    pipelined_final_new_stream = pipelined_cleaned_final_df.select(['features'] + columns)\n",
    "\n",
    "    ## Make Prediction\n",
    "    lr_predictions_new_stream = lr_model.transform(pipelined_final_new_stream)\n",
    "\n",
    "\n",
    "    df = lr_predictions_new_stream.select('zone_id', \"facility_id\", \"hour\", \"minute\", \"prediction\" )\n",
    "    df = df.withColumn(\"prediction_time\",F.current_timestamp().astype(StringType()))\n",
    "    \n",
    "    df2 = df.toPandas()\n",
    "    \n",
    "    ### Streaming the prediction Starts \n",
    "    for i, row in df2.iterrows():\n",
    "            send_value = convert_to_json(row.to_dict())\n",
    "            clear_output(wait=True)\n",
    "            print(f\"========{topic}=======\")\n",
    "            print(send_value)\n",
    "            p.produce(topic, key=row[0], value=send_value, callback=callback)\n",
    "            p.poll(0) \n",
    "    time.sleep(10)\n",
    "except KeyboardInterrupt:\n",
    "    pass"
   ]
  },
  {
   "cell_type": "markdown",
   "id": "68b353b5",
   "metadata": {},
   "source": [
    "\n"
   ]
  },
  {
   "cell_type": "code",
   "execution_count": null,
   "id": "affc75ce",
   "metadata": {},
   "outputs": [],
   "source": [
    "car_park_zone_stream.stop()"
   ]
  },
  {
   "cell_type": "code",
   "execution_count": 94,
   "id": "e54f5164",
   "metadata": {},
   "outputs": [],
   "source": [
    "spark.stop()"
   ]
  }
 ],
 "metadata": {
  "kernelspec": {
   "display_name": "Python 3",
   "language": "python",
   "name": "python3"
  },
  "language_info": {
   "codemirror_mode": {
    "name": "ipython",
    "version": 3
   },
   "file_extension": ".py",
   "mimetype": "text/x-python",
   "name": "python",
   "nbconvert_exporter": "python",
   "pygments_lexer": "ipython3",
   "version": "3.8.8"
  }
 },
 "nbformat": 4,
 "nbformat_minor": 5
}
