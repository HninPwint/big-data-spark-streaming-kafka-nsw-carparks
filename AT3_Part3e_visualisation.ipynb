{
 "cells": [
  {
   "cell_type": "markdown",
   "id": "9f779d50",
   "metadata": {},
   "source": [
    "MDSI, UTS , Autumn / 2021 , Big Data Engineering(94693)\n",
    "\n",
    "AT3 - Streaming with Kafka and Spark Streaming , 13 June 2021\n",
    " \n",
    "Group Project by\n",
    "* Irfan\n",
    "* Ming \n",
    "* Jedo\n",
    "* Hnin Pwint Tin / 13738339  \n",
    "\n",
    "File name - AT3_Part3e_Visualisation.py \n",
    "\n",
    "This script intends to perform visualisation of Real-Time Car Park Occupancy Rate on Stream Data\n",
    "\n",
    "Prior to running this script, AT3_Producer.ipnyb has to be run."
   ]
  },
  {
   "cell_type": "code",
   "execution_count": 16,
   "id": "3b5103a6",
   "metadata": {},
   "outputs": [],
   "source": [
    "from IPython.display import display, clear_output\n",
    "import time\n",
    "\n",
    "from pyspark.sql import SparkSession\n",
    "from pyspark.sql import functions as F\n",
    "from pyspark.sql.types import StructType, StructField, IntegerType, StringType\n",
    "import pyspark.sql.functions as sf\n",
    "\n",
    "import pandas as pd\n",
    "import seaborn as sns\n",
    "import matplotlib.pyplot as plt"
   ]
  },
  {
   "cell_type": "markdown",
   "id": "09321bac",
   "metadata": {},
   "source": [
    "#### Create SparkSession"
   ]
  },
  {
   "cell_type": "code",
   "execution_count": 2,
   "id": "497fcea8",
   "metadata": {},
   "outputs": [],
   "source": [
    "spark = SparkSession.builder \\\n",
    "        .appName('kafka') \\\n",
    "        .getOrCreate()"
   ]
  },
  {
   "cell_type": "markdown",
   "id": "ef36dd38",
   "metadata": {},
   "source": [
    "#### Define Schema of Stream - Carpark facility "
   ]
  },
  {
   "cell_type": "code",
   "execution_count": 3,
   "id": "8ef3ab2e",
   "metadata": {},
   "outputs": [],
   "source": [
    "## Create the schema of the value field for Car Park Facility\n",
    "schema_car_park_facility_stream = StructType([\n",
    "    StructField(\"facility_id\", StringType(),  True),\n",
    "    StructField(\"tsn\", StringType(),  True),\n",
    "    StructField(\"park_id\", StringType(),  True),\n",
    "    StructField(\"facility_name\", StringType(),  True),\n",
    "    StructField(\"time\", StringType(),  True),\n",
    "    StructField(\"spots\", StringType(),  True),\n",
    "    StructField(\"message_date\", StringType(),  True),\n",
    "    StructField(\"tfnsw_facility_id\", StringType(), True),\n",
    "    StructField(\"facility_occupancy_loop\", StringType(), True),\n",
    "    StructField(\"facility_occupancy_total\", StringType(), True),\n",
    "    StructField(\"facility_occupancy_monthlies\", StringType(),  True),\n",
    "    StructField(\"facility_occupancy_open_gate\", StringType(), True),\n",
    "    StructField(\"facility_occupancy_transients\", StringType(), True),\n",
    "])"
   ]
  },
  {
   "cell_type": "code",
   "execution_count": 4,
   "id": "91adb23b",
   "metadata": {},
   "outputs": [
    {
     "name": "stdout",
     "output_type": "stream",
     "text": [
      "root\n",
      " |-- event_key: string (nullable = true)\n",
      " |-- event_topic: string (nullable = true)\n",
      " |-- event_timestamp: timestamp (nullable = true)\n",
      " |-- facility_id: string (nullable = true)\n",
      " |-- tsn: string (nullable = true)\n",
      " |-- park_id: string (nullable = true)\n",
      " |-- facility_name: string (nullable = true)\n",
      " |-- time: string (nullable = true)\n",
      " |-- spots: string (nullable = true)\n",
      " |-- message_date: string (nullable = true)\n",
      " |-- tfnsw_facility_id: string (nullable = true)\n",
      " |-- facility_occupancy_loop: string (nullable = true)\n",
      " |-- facility_occupancy_total: string (nullable = true)\n",
      " |-- facility_occupancy_monthlies: string (nullable = true)\n",
      " |-- facility_occupancy_open_gate: string (nullable = true)\n",
      " |-- facility_occupancy_transients: string (nullable = true)\n",
      "\n"
     ]
    }
   ],
   "source": [
    "### Subscribe the topic \"nsw_car_park_facility\" from the Kafka broker and \n",
    "### Read the earlierst data into the Spark dataframe called car_park_facility_stream_df\n",
    "car_park_facility_stream_df = spark \\\n",
    "  .readStream \\\n",
    "  .format(\"kafka\") \\\n",
    "  .option(\"kafka.bootstrap.servers\", \"broker:29092\") \\\n",
    "  .option(\"startingOffsets\", \"earliest\") \\\n",
    "  .option(\"subscribe\", \"nsw_car_park_facility\") \\\n",
    "  .load()\n",
    "\n",
    "### Convert the columns key and value from stream_df to string and \n",
    "### Save the results into the dataframe again\n",
    "car_park_facility_stream_df = car_park_facility_stream_df \\\n",
    "    .withColumn(\"key\", car_park_facility_stream_df[\"key\"].cast(StringType())) \\\n",
    "    .withColumn(\"value\", car_park_facility_stream_df[\"value\"].cast(StringType()))\n",
    "\n",
    "### Convert the column value of string_stream_df to JSON and\n",
    "### Save the results to the dataframe again \n",
    "car_park_facility_stream_df = car_park_facility_stream_df \\\n",
    "    .withColumn(\"value\", F.from_json(\"value\", schema_car_park_facility_stream))\n",
    "\n",
    "### Flatten the columns from value and rename the columns key, topic, timestamp to respectively event_key, event_topic, event_timestamp\n",
    "car_park_facility_stream_df = car_park_facility_stream_df \\\n",
    "    .select( \\\n",
    "        F.col(\"key\").alias(\"event_key\"), \\\n",
    "        F.col(\"topic\").alias(\"event_topic\"), \\\n",
    "        F.col(\"timestamp\").alias(\"event_timestamp\"), \\\n",
    "        \"value.facility_id\", \\\n",
    "        \"value.tsn\", \\\n",
    "        \"value.park_id\", \\\n",
    "        \"value.facility_name\", \\\n",
    "        \"value.time\", \\\n",
    "        \"value.spots\", \\\n",
    "        \"value.message_date\", \\\n",
    "        \"value.tfnsw_facility_id\", \\\n",
    "        \"value.facility_occupancy_loop\", \\\n",
    "        \"value.facility_occupancy_total\", \\\n",
    "        \"value.facility_occupancy_monthlies\", \\\n",
    "        \"value.facility_occupancy_open_gate\", \\\n",
    "        \"value.facility_occupancy_transients\"\n",
    "    )\n",
    "\n",
    "### Print the schema of car_park_facility_stream_df\n",
    "car_park_facility_stream_df.printSchema()"
   ]
  },
  {
   "cell_type": "markdown",
   "id": "68081e80",
   "metadata": {},
   "source": [
    "### Export the Stream data to Memory to view\n",
    "from car_park_facility_stream_df as a queryable view called nsw_car_park_facility_view"
   ]
  },
  {
   "cell_type": "code",
   "execution_count": 5,
   "id": "4ebc6026",
   "metadata": {},
   "outputs": [],
   "source": [
    "car_park_facility_stream = car_park_facility_stream_df \\\n",
    "    .writeStream \\\n",
    "    .format(\"memory\") \\\n",
    "    .queryName(\"nsw_car_park_facility_view\") \\\n",
    "    .start()"
   ]
  },
  {
   "cell_type": "markdown",
   "id": "c5fdb5e0",
   "metadata": {},
   "source": [
    "### Real-time Visualisation of Occupancy in the Top Five Largest Car Park Facilities"
   ]
  },
  {
   "cell_type": "code",
   "execution_count": 17,
   "id": "3ea9018d",
   "metadata": {},
   "outputs": [
    {
     "data": {
      "image/png": "[encoded data removed]",
      "text/plain": [
       "<Figure size 720x360 with 1 Axes>"
      ]
     },
     "metadata": {},
     "output_type": "display_data"
    }
   ],
   "source": [
    "try:\n",
    "    while(True):\n",
    "        clear_output(wait=True)\n",
    "        nsw_car_park_facility_df = spark.sql(\"\"\" SELECT \n",
    "                                                message_date, event_timestamp, \n",
    "                                                facility_id,\n",
    "                                                regexp_replace(facility_name, 'Car Park', '') as facility_name,\n",
    "                                                cast (spots as INT),\n",
    "                                                cast (facility_occupancy_total as INT)\n",
    "                                            FROM nsw_car_park_facility_view   \n",
    "                                            \"\"\")\n",
    "        nsw_car_park_facility_pd_df = nsw_car_park_facility_df.toPandas()\n",
    "\n",
    "        largest_list = ['488', '2', '1', '3', '4', '5', '6', '7', '486', '487', '489']\n",
    "        top_largest_facility_df = pd.DataFrame()\n",
    "        for i in largest_list:\n",
    "\n",
    "            facility = nsw_car_park_facility_pd_df[(nsw_car_park_facility_pd_df['facility_id'] == i)]\n",
    "            facility = facility.loc[facility['event_timestamp'] == facility['event_timestamp'].max()].drop_duplicates()\n",
    "\n",
    "            facility['occupancy_percent'] = ((facility['facility_occupancy_total'] / facility['spots'] ) * 100 ).round(decimals=2)\n",
    "            top_largest_facility_df = top_largest_facility_df.append(facility)\n",
    "\n",
    "\n",
    "        sns.set_theme(style=\"whitegrid\")\n",
    "        plt.figure(figsize=(10, 5))\n",
    "        reading_time = top_largest_facility_df['message_date'].iloc[0]\n",
    "\n",
    "        bp = sns.barplot(x=\"occupancy_percent\", y=\"facility_name\", data=top_largest_facility_df)\n",
    "        bp.set_title(\"Occupancy Rate of Car Parks at \" + reading_time ,fontsize=15)\n",
    "        bp.set(xlabel=\"Occupancy %\", ylabel=\"\")\n",
    "\n",
    "        plt.show()     \n",
    "        time.sleep(300)\n",
    "\n",
    "except KeyboardInterrupt:\n",
    "    pass"
   ]
  },
  {
   "cell_type": "code",
   "execution_count": null,
   "id": "7c6fbd73",
   "metadata": {},
   "outputs": [],
   "source": [
    "car_park_facility_stream.stop()"
   ]
  },
  {
   "cell_type": "code",
   "execution_count": 49,
   "id": "a789d9ce",
   "metadata": {},
   "outputs": [],
   "source": [
    "spark.stop()"
   ]
  }
 ],
 "metadata": {
  "kernelspec": {
   "display_name": "Python 3",
   "language": "python",
   "name": "python3"
  },
  "language_info": {
   "codemirror_mode": {
    "name": "ipython",
    "version": 3
   },
   "file_extension": ".py",
   "mimetype": "text/x-python",
   "name": "python",
   "nbconvert_exporter": "python",
   "pygments_lexer": "ipython3",
   "version": "3.8.8"
  }
 },
 "nbformat": 4,
 "nbformat_minor": 5
}
