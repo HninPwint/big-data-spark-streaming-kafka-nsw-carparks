{
 "cells": [
  {
   "cell_type": "code",
   "execution_count": 23,
   "id": "63795162",
   "metadata": {},
   "outputs": [
    {
     "data": {
      "text/html": [
       "        <script type=\"text/javascript\">\n",
       "        window.PlotlyConfig = {MathJaxConfig: 'local'};\n",
       "        if (window.MathJax) {MathJax.Hub.Config({SVG: {font: \"STIX-Web\"}});}\n",
       "        if (typeof require !== 'undefined') {\n",
       "        require.undef(\"plotly\");\n",
       "        requirejs.config({\n",
       "            paths: {\n",
       "                'plotly': ['https://cdn.plot.ly/plotly-latest.min']\n",
       "            }\n",
       "        });\n",
       "        require(['plotly'], function(Plotly) {\n",
       "            window._Plotly = Plotly;\n",
       "        });\n",
       "        }\n",
       "        </script>\n",
       "        "
      ]
     },
     "metadata": {},
     "output_type": "display_data"
    },
    {
     "data": {
      "text/html": [
       "        <script type=\"text/javascript\">\n",
       "        window.PlotlyConfig = {MathJaxConfig: 'local'};\n",
       "        if (window.MathJax) {MathJax.Hub.Config({SVG: {font: \"STIX-Web\"}});}\n",
       "        if (typeof require !== 'undefined') {\n",
       "        require.undef(\"plotly\");\n",
       "        requirejs.config({\n",
       "            paths: {\n",
       "                'plotly': ['https://cdn.plot.ly/plotly-latest.min']\n",
       "            }\n",
       "        });\n",
       "        require(['plotly'], function(Plotly) {\n",
       "            window._Plotly = Plotly;\n",
       "        });\n",
       "        }\n",
       "        </script>\n",
       "        "
      ]
     },
     "metadata": {},
     "output_type": "display_data"
    },
    {
     "data": {
      "text/html": [
       "        <script type=\"text/javascript\">\n",
       "        window.PlotlyConfig = {MathJaxConfig: 'local'};\n",
       "        if (window.MathJax) {MathJax.Hub.Config({SVG: {font: \"STIX-Web\"}});}\n",
       "        if (typeof require !== 'undefined') {\n",
       "        require.undef(\"plotly\");\n",
       "        requirejs.config({\n",
       "            paths: {\n",
       "                'plotly': ['https://cdn.plot.ly/plotly-latest.min']\n",
       "            }\n",
       "        });\n",
       "        require(['plotly'], function(Plotly) {\n",
       "            window._Plotly = Plotly;\n",
       "        });\n",
       "        }\n",
       "        </script>\n",
       "        "
      ]
     },
     "metadata": {},
     "output_type": "display_data"
    }
   ],
   "source": [
    "from IPython.display import display, clear_output\n",
    "from datetime import datetime\n",
    "import time\n",
    "import pytz\n",
    "from pathlib import Path\n",
    "\n",
    "import pandas as pd\n",
    "from pyspark.sql import SparkSession\n",
    "from pyspark.sql import functions as F\n",
    "from pyspark.sql.types import StructType, StructField, IntegerType, StringType, DataType\n",
    "import pyspark.sql.functions as sf\n",
    "from pyspark.sql.functions import lit, date_format, col, udf\n",
    "\n",
    "\n",
    "#Visualization libraries\n",
    "import matplotlib\n",
    "import matplotlib.pyplot as plt \n",
    "from matplotlib import rcParams\n",
    "from matplotlib.dates import DateFormatter\n",
    "from matplotlib.pyplot import figure\n",
    "import matplotlib\n",
    "\n",
    "from plotly import tools\n",
    "import plotly.graph_objs as go\n",
    "from plotly.offline import iplot\n",
    "get_ipython().run_line_magic('matplotlib', 'inline')\n",
    "plt.rcParams['figure.figsize'] = [10, 5]\n",
    "import cufflinks as cf\n",
    "cf.go_offline()\n",
    "cf.set_config_file(offline=False, world_readable=True)\n",
    "\n",
    "%matplotlib inline\n",
    "\n",
    "# Plotly\n",
    "import chart_studio.plotly as py\n",
    "import plotly.graph_objs as go\n",
    "from plotly.offline import iplot, init_notebook_mode\n",
    "import plotly.express as px\n",
    "from plotly.graph_objs import Layout\n",
    "\n",
    "\n",
    "import cufflinks\n",
    "cufflinks.go_offline(connected=True)\n",
    "init_notebook_mode(connected=True)"
   ]
  },
  {
   "cell_type": "code",
   "execution_count": 9,
   "id": "d6f8e9c4",
   "metadata": {},
   "outputs": [],
   "source": [
    "# Create SparkSession\n",
    "spark = SparkSession.builder \\\n",
    "        .appName('kafka') \\\n",
    "        .getOrCreate()"
   ]
  },
  {
   "cell_type": "code",
   "execution_count": 10,
   "id": "a117c92d",
   "metadata": {},
   "outputs": [],
   "source": [
    "## Create the schema of the value field for Car Park Facility\n",
    "schema_car_park_facility_stream = StructType([\n",
    "    StructField(\"facility_id\", StringType(),  True),\n",
    "    StructField(\"tsn\", StringType(),  True),\n",
    "    StructField(\"park_id\", StringType(),  True),\n",
    "    StructField(\"facility_name\", StringType(),  True),\n",
    "    StructField(\"time\", StringType(),  True),\n",
    "    StructField(\"spots\", StringType(),  True),\n",
    "    StructField(\"message_date\", StringType(),  True),\n",
    "    StructField(\"tfnsw_facility_id\", StringType(), True),\n",
    "    StructField(\"facility_occupancy_loop\", StringType(), True),\n",
    "    StructField(\"facility_occupancy_total\", StringType(), True),\n",
    "    StructField(\"facility_occupancy_monthlies\", StringType(),  True),\n",
    "    StructField(\"facility_occupancy_open_gate\", StringType(), True),\n",
    "    StructField(\"facility_occupancy_transients\", StringType(), True),\n",
    "])"
   ]
  },
  {
   "cell_type": "code",
   "execution_count": 19,
   "id": "2604faea",
   "metadata": {},
   "outputs": [
    {
     "name": "stdout",
     "output_type": "stream",
     "text": [
      "root\n",
      " |-- event_key: string (nullable = true)\n",
      " |-- event_topic: string (nullable = true)\n",
      " |-- event_timestamp: timestamp (nullable = true)\n",
      " |-- facility_id: string (nullable = true)\n",
      " |-- tsn: string (nullable = true)\n",
      " |-- park_id: string (nullable = true)\n",
      " |-- facility_name: string (nullable = true)\n",
      " |-- time: string (nullable = true)\n",
      " |-- spots: string (nullable = true)\n",
      " |-- message_date: string (nullable = true)\n",
      " |-- tfnsw_facility_id: string (nullable = true)\n",
      " |-- facility_occupancy_loop: string (nullable = true)\n",
      " |-- facility_occupancy_total: string (nullable = true)\n",
      " |-- facility_occupancy_monthlies: string (nullable = true)\n",
      " |-- facility_occupancy_open_gate: string (nullable = true)\n",
      " |-- facility_occupancy_transients: string (nullable = true)\n",
      "\n"
     ]
    }
   ],
   "source": [
    "### Subscribe the topic \"nsw_car_park_facility\" from the Kafka broker and \n",
    "### Read the earlierst data into the Spark dataframe called car_park_facility_stream_df\n",
    "car_park_facility_stream_df = spark \\\n",
    "  .readStream \\\n",
    "  .format(\"kafka\") \\\n",
    "  .option(\"kafka.bootstrap.servers\", \"broker:29092\") \\\n",
    "  .option(\"startingOffsets\", \"earliest\") \\\n",
    "  .option(\"subscribe\", \"nsw_car_park_facility\") \\\n",
    "  .load()\n",
    "\n",
    "### Convert the columns key and value from stream_df to string and \n",
    "### Save the results into the dataframe again\n",
    "car_park_facility_stream_df = car_park_facility_stream_df \\\n",
    "    .withColumn(\"key\", car_park_facility_stream_df[\"key\"].cast(StringType())) \\\n",
    "    .withColumn(\"value\", car_park_facility_stream_df[\"value\"].cast(StringType()))\n",
    "\n",
    "### Convert the column value of string_stream_df to JSON and\n",
    "### Save the results to the dataframe again \n",
    "car_park_facility_stream_df = car_park_facility_stream_df \\\n",
    "    .withColumn(\"value\", F.from_json(\"value\", schema_car_park_facility_stream))\n",
    "\n",
    "### Flatten the columns from value and rename the columns key, topic, timestamp to respectively event_key, event_topic, event_timestamp\n",
    "car_park_facility_stream_df = car_park_facility_stream_df \\\n",
    "    .select( \\\n",
    "        F.col(\"key\").alias(\"event_key\"), \\\n",
    "        F.col(\"topic\").alias(\"event_topic\"), \\\n",
    "        F.col(\"timestamp\").alias(\"event_timestamp\"), \\\n",
    "        \"value.facility_id\", \\\n",
    "        \"value.tsn\", \\\n",
    "        \"value.park_id\", \\\n",
    "        \"value.facility_name\", \\\n",
    "        \"value.time\", \\\n",
    "        \"value.spots\", \\\n",
    "        \"value.message_date\", \\\n",
    "        \"value.tfnsw_facility_id\", \\\n",
    "        \"value.facility_occupancy_loop\", \\\n",
    "        \"value.facility_occupancy_total\", \\\n",
    "        \"value.facility_occupancy_monthlies\", \\\n",
    "        \"value.facility_occupancy_open_gate\", \\\n",
    "        \"value.facility_occupancy_transients\"\n",
    "    )\n",
    "\n",
    "### Drop duplicate records\n",
    "car_park_facility_stream_df = car_park_facility_stream_df.dropDuplicates([\"facility_id\",\"message_date\"])\n",
    "\n",
    "### Print the schema of car_park_facility_stream_df\n",
    "car_park_facility_stream_df.printSchema()"
   ]
  },
  {
   "cell_type": "code",
   "execution_count": 20,
   "id": "a91189f5",
   "metadata": {},
   "outputs": [],
   "source": [
    "## config window parameters\n",
    "WINDOW_DURATION = '300 seconds'\n",
    "SLIDE_DURATION = '60 seconds'\n",
    "WATERMARK_DURATION = \"5 minutes\""
   ]
  },
  {
   "cell_type": "code",
   "execution_count": 16,
   "id": "5731911b",
   "metadata": {},
   "outputs": [],
   "source": [
    "# Create window stream with watermark\n",
    "windowed_facility_occupancy_mean_stream_df = car_park_facility_stream_df \\\n",
    "    .withWatermark(\"event_timestamp\", WATERMARK_DURATION) \\\n",
    "    .groupBy(F.window(car_park_facility_stream_df.event_timestamp, WINDOW_DURATION, SLIDE_DURATION), car_park_facility_stream_df.facility_id) \\\n",
    "    .agg(sf.max(\"facility_name\").alias(\"facility_name\"), sf.mean(\"facility_occupancy_total\").alias(\"facility_occupancy_mean\"), sf.mean(\"spots\").alias(\"spots\")) \\\n",
    "    .withColumn(\"start_time\", col(\"window.start\")) \\\n",
    "    .withColumn(\"end_time\", col(\"window.end\"))\n",
    "\n",
    "# calculate availability percentages\n",
    "windowed_facility_occupancy_mean_stream_df = windowed_facility_occupancy_mean_stream_df \\\n",
    "    .withColumn(\"availability_percentage\", (windowed_facility_occupancy_mean_stream_df[\"spots\"] - windowed_facility_occupancy_mean_stream_df[\"facility_occupancy_mean\"])*100.0 / windowed_facility_occupancy_mean_stream_df[\"spots\"] )"
   ]
  },
  {
   "cell_type": "code",
   "execution_count": 17,
   "id": "c68865f6",
   "metadata": {},
   "outputs": [],
   "source": [
    "windowed_facility_occupancy_mean_stream = windowed_facility_occupancy_mean_stream_df \\\n",
    "    .writeStream \\\n",
    "    .format(\"memory\") \\\n",
    "    .outputMode(\"Complete\") \\\n",
    "    .queryName(\"windowed_facility_occupancy_mean_view\") \\\n",
    "    .start()"
   ]
  },
  {
   "cell_type": "code",
   "execution_count": 49,
   "id": "b72366e6",
   "metadata": {},
   "outputs": [
    {
     "data": {
      "image/png": "[encoded data removed]",
      "text/plain": [
       "<Figure size 960x480 with 1 Axes>"
      ]
     },
     "metadata": {
      "needs_background": "light"
     },
     "output_type": "display_data"
    }
   ],
   "source": [
    "try:\n",
    "    while True:\n",
    "        clear_output(wait=True)\n",
    "        \n",
    "        # get last two hours records only\n",
    "        windowed_facility_state_df = spark.sql(f\"\"\"\n",
    "            SELECT \n",
    "                start_time, \n",
    "                end_time, \n",
    "                facility_id, \n",
    "                facility_name, \n",
    "                facility_occupancy_mean, \n",
    "                spots, \n",
    "                availability_percentage \n",
    "            FROM \n",
    "                windowed_facility_occupancy_mean_view where start_time > (current_timestamp() - INTERVAL 2 hours) \n",
    "            ORDER BY start_time\n",
    "        \"\"\")\n",
    "        \n",
    "        if windowed_facility_state_df.count() > 0:\n",
    "        \n",
    "            # convert spark dataframe to pandas dataframe\n",
    "            windowed_facility_state_pd_df = windowed_facility_state_df.toPandas()\n",
    "            \n",
    "            # change timezone to Sydney time\n",
    "            windowed_facility_state_pd_df[\"start_time\"] = windowed_facility_state_pd_df[\"start_time\"].dt.tz_localize('utc').dt.tz_convert('Australia/Sydney')\n",
    "            windowed_facility_state_pd_df[\"end_time\"] = windowed_facility_state_pd_df[\"end_time\"].dt.tz_localize('utc').dt.tz_convert('Australia/Sydney')\n",
    "            #display(windowed_facility_state_pd_df)\n",
    "\n",
    "            # get all facilities\n",
    "            all_facilities = windowed_facility_state_pd_df['facility_name'].unique().tolist()\n",
    "\n",
    "            # get current time\n",
    "            tz = pytz.timezone('Australia/Sydney')\n",
    "            now = datetime.now(tz)\n",
    "            current_time = now.strftime(\"%H:%M:%S\")\n",
    "\n",
    "            # plot graph\n",
    "            figure(figsize=(12, 6), dpi=80)\n",
    "            for facility in all_facilities:\n",
    "                display_df = windowed_facility_state_pd_df.query(f\"facility_name == '{facility}'\").sort_values([\"end_time\"])      \n",
    "                plt.plot('end_time', \n",
    "                         'availability_percentage', \n",
    "                         data=display_df,\n",
    "                         label=facility\n",
    "                        ) \n",
    "\n",
    "            # set plot date format\n",
    "            date_form = DateFormatter(\"%b-%d %H:%M\", tz=tz)\n",
    "            ax = plt.gca()\n",
    "            ax.xaxis.set_major_formatter(date_form)    \n",
    "            \n",
    "            # set plot layout\n",
    "            plt.legend(loc='center right', bbox_to_anchor=(1.4, 0.5), shadow=True, ncol=1)\n",
    "            plt.ylabel(\"availability(%)\")\n",
    "            plt.xlabel(\"Datetime\")\n",
    "            plt.title(f\"Car park availability(%), last update time : {current_time}\")\n",
    "            plt.show()\n",
    "        \n",
    "        time.sleep(60)\n",
    "    \n",
    "    \n",
    "        \n",
    "except KeyboardInterrupt:\n",
    "    pass"
   ]
  },
  {
   "cell_type": "code",
   "execution_count": 32,
   "id": "6196d677",
   "metadata": {},
   "outputs": [],
   "source": [
    "windowed_facility_occupancy_mean_stream.stop()"
   ]
  },
  {
   "cell_type": "code",
   "execution_count": 33,
   "id": "3af64f3f",
   "metadata": {},
   "outputs": [],
   "source": [
    "spark.stop()"
   ]
  },
  {
   "cell_type": "code",
   "execution_count": null,
   "id": "ad1e17a1",
   "metadata": {},
   "outputs": [],
   "source": []
  }
 ],
 "metadata": {
  "kernelspec": {
   "display_name": "Python 3",
   "language": "python",
   "name": "python3"
  },
  "language_info": {
   "codemirror_mode": {
    "name": "ipython",
    "version": 3
   },
   "file_extension": ".py",
   "mimetype": "text/x-python",
   "name": "python",
   "nbconvert_exporter": "python",
   "pygments_lexer": "ipython3",
   "version": "3.8.8"
  }
 },
 "nbformat": 4,
 "nbformat_minor": 5
}
